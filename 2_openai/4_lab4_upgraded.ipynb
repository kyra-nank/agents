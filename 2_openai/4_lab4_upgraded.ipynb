{
 "cells": [
  {
   "cell_type": "markdown",
   "metadata": {},
   "source": [
    "## Deep Research\n",
    "\n",
    "One of the classic cross-business Agentic use cases! This is huge."
   ]
  },
  {
   "cell_type": "markdown",
   "metadata": {},
   "source": [
    "<table style=\"margin: 0; text-align: left; width:100%\">\n",
    "    <tr>\n",
    "        <td style=\"width: 150px; height: 150px; vertical-align: middle;\">\n",
    "            <img src=\"../assets/business.png\" width=\"150\" height=\"150\" style=\"display: block;\" />\n",
    "        </td>\n",
    "        <td>\n",
    "            <h2 style=\"color:#00bfff;\">Commercial implications</h2>\n",
    "            <span style=\"color:#00bfff;\">A Deep Research agent is broadly applicable to any business area, and to your own day-to-day activities. You can make use of this yourself!\n",
    "            </span>\n",
    "        </td>\n",
    "    </tr>\n",
    "</table>"
   ]
  },
  {
   "cell_type": "markdown",
   "metadata": {},
   "source": [
    "### Upgrades to Original System\n",
    "\n",
    "- When given a query, come up with 3 questions that will help answer the query\n",
    "    - Then come up with a search query to answer each question\n",
    "- Incorporate handoffs and using agents as tools\n",
    "    - Agents as Tools: 1 Google Search agent and 1 OpenAI Web Search agent. The research manager will decide if more queries are needed (and can call planner_agent again), or if need to run again.\n",
    "    - Agents as Tools: 1 question formulator agent and 1 search planner agent which get used by the research manager in sequence.\n",
    "    - Handoff the research to the writer agent\n",
    "    - Handoff the report to the editor agent\n",
    "\n",
    "PLAN\n",
    "- Create & test question_formulator_agent\n",
    "    - Given a query, formulate X research questions to help answer the query\n",
    "    - Test with a query\n",
    "    - Convert to .as_tool()\n",
    "- Adjust previous planner_agent & test\n",
    "    - Use the question_formulator_agent as a tool to generate questions\n",
    "    - Create 1 search query to answer each 1 of the questions\n",
    "    - Test with simulated questions\n",
    "    - Convert to .as_tool()\n",
    "- Create & test gemini_search_agent\n",
    "    - Someone has a version in the community contributions folder\n",
    "    - Take the list of queries and perform a search for each one\n",
    "    - Test with simulated query list\n",
    "    - Convert to .as_tool()\n",
    "- Adjust previous openai_search_agent & test\n",
    "    - Take the list of queries and perform a search for each one\n",
    "    - Test with simulated query list\n",
    "    - Convert to .as_tool()\n",
    "- Create an editor_agent\n",
    "    - Receives the report and edits it to a professional level\n",
    "    - Returns the same as writer_agent\n",
    "- Adjust the writer_agent\n",
    "    - Receives the research, writes a report, also returns a markdown report\n",
    "    - Handsoff to editor_agent\n",
    "- Create a research_manager_agent\n",
    "    - Given a query use the planner_agent to generate search queries to research the query\n",
    "    - Next use the gemini_search_agent and openai_search_agents to conduct the search queries. They should each be used once for every search query. That way you receive two different results to consider for each query for the final research report. If you believe more information is needed to address the query, you can use the planner_agent only one additional time followed by the gemini_search_agent and the gemini_search_agent to gather additional research. You will then handoff this research to the writer_agent to write a report."
   ]
  },
  {
   "cell_type": "code",
   "execution_count": 222,
   "metadata": {},
   "outputs": [],
   "source": [
    "from agents import Agent, WebSearchTool, trace, Runner, function_tool, handoff\n",
    "from agents.model_settings import ModelSettings\n",
    "from pydantic import BaseModel, Field\n",
    "from dotenv import load_dotenv\n",
    "import asyncio\n",
    "import os\n",
    "from sendgrid.helpers.mail import Mail, Email, To, Content\n",
    "from typing import Dict\n",
    "from IPython.display import display, Markdown\n",
    "from agents import OpenAIChatCompletionsModel\n",
    "from openai import AsyncOpenAI\n",
    "import requests\n",
    "from bs4 import BeautifulSoup"
   ]
  },
  {
   "cell_type": "code",
   "execution_count": 223,
   "metadata": {},
   "outputs": [
    {
     "data": {
      "text/plain": [
       "True"
      ]
     },
     "execution_count": 223,
     "metadata": {},
     "output_type": "execute_result"
    }
   ],
   "source": [
    "load_dotenv(override=True)"
   ]
  },
  {
   "cell_type": "markdown",
   "metadata": {},
   "source": [
    "### Question Formulator Agent\n",
    "- Create & test question_formulator_agent\n",
    "    - Given a query, formulate X research questions to help answer the query\n",
    "    - Test with a query\n",
    "    - Convert to .as_tool()"
   ]
  },
  {
   "cell_type": "code",
   "execution_count": 224,
   "metadata": {},
   "outputs": [],
   "source": [
    "INSTRUCTIONS = \"You are a helpful research assistant. Given a query, formulate a set of research questions \\\n",
    "that when answered will help answer or address the query. Output 3 questions to research.\"\n",
    "\n",
    "class ResearchQuestionItem(BaseModel):\n",
    "    reason: str = Field(description=\"Your reasoning for why this question is important to address the query.\")\n",
    "    question: str = Field(description=\"The research question to use to conduct further research regarding the query.\")\n",
    "\n",
    "class ResearchQuestionPlan(BaseModel):\n",
    "    questions: list[ResearchQuestionItem] = Field(description=\"A list of research questions to research to best answer the query.\")\n",
    "\n",
    "question_formulator_agent = Agent(\n",
    "    name=\"Question Formulator Agent\",\n",
    "    instructions=INSTRUCTIONS,\n",
    "    model=\"gpt-4o-mini\",\n",
    "    output_type=ResearchQuestionPlan,\n",
    ")"
   ]
  },
  {
   "cell_type": "code",
   "execution_count": 201,
   "metadata": {},
   "outputs": [
    {
     "name": "stdout",
     "output_type": "stream",
     "text": [
      "questions=[ResearchQuestionItem(reason='Understanding the foundational elements of AI agent frameworks will provide insight into their development and capabilities.', question='What are the key features and technologies that define the leading AI agent frameworks introduced in 2025?'), ResearchQuestionItem(reason='Evaluating the real-world applications of these frameworks will highlight their impact and effectiveness in various industries.', question='What industries are adopting AI agent frameworks in 2025, and what are the specific use cases driving their implementation?'), ResearchQuestionItem(reason='Keeping up with the latest advancements in AI frameworks is crucial for identifying trends and potential future developments.', question='What are the emerging trends and innovations in AI agent frameworks as observed in 2025?')]\n"
     ]
    }
   ],
   "source": [
    "message = \"Latest AI Agent frameworks in 2025\"\n",
    "\n",
    "with trace(\"Test - Question Formulator Agent\"):\n",
    "    result = await Runner.run(question_formulator_agent, message)\n",
    "\n",
    "print(result.final_output)"
   ]
  },
  {
   "cell_type": "code",
   "execution_count": 225,
   "metadata": {},
   "outputs": [
    {
     "data": {
      "text/plain": [
       "[FunctionTool(name='question_formulator_agent', description='Generate research questions', params_json_schema={'properties': {'input': {'title': 'Input', 'type': 'string'}}, 'required': ['input'], 'title': 'question_formulator_agent_args', 'type': 'object', 'additionalProperties': False}, on_invoke_tool=<function function_tool.<locals>._create_function_tool.<locals>._on_invoke_tool at 0x1196596c0>, strict_json_schema=True, is_enabled=True)]"
      ]
     },
     "execution_count": 225,
     "metadata": {},
     "output_type": "execute_result"
    }
   ],
   "source": [
    "description = \"Generate research questions\"\n",
    "\n",
    "tool_question_formulator = question_formulator_agent.as_tool(tool_name=\"question_formulator_agent\", tool_description=description)\n",
    "\n",
    "tools_for_planner_agent = [tool_question_formulator]\n",
    "\n",
    "tools_for_planner_agent"
   ]
  },
  {
   "cell_type": "markdown",
   "metadata": {},
   "source": [
    "### Planner Agent\n",
    "- Adjust previous planner_agent & test\n",
    "    - Use the question_formulator_agent as a tool to generate questions\n",
    "    - Create 1 search query to answer each 1 of the questions\n",
    "    - Test with simulated questions\n",
    "    - Convert to .as_tool()"
   ]
  },
  {
   "cell_type": "code",
   "execution_count": 226,
   "metadata": {},
   "outputs": [],
   "source": [
    "INSTRUCTIONS = \"You are a helpful research assistant. Given a query you will use the question_formulator_agent as a tool to \\\n",
    "come up with a set of questions. Your role is to create 1 web search for each question to perform to best answer the query. \\\n",
    "Output the web search terms to query for, there should be exactly as many web search queries as questions you received.\"\n",
    "\n",
    "class WebSearchItem(BaseModel):\n",
    "    reason: str = Field(description=\"Your reasoning for why this search is important to the query and will answer the question.\")\n",
    "    query: str = Field(description=\"The search term to use for the web search.\")\n",
    "\n",
    "class WebSearchPlan(BaseModel):\n",
    "    searches: list[WebSearchItem] = Field(description=\"A list of web searches to perform to best answer the query.\")\n",
    "\n",
    "planner_agent = Agent(\n",
    "    name=\"Planner Agent\",\n",
    "    instructions=INSTRUCTIONS,\n",
    "    model=\"gpt-4o-mini\",\n",
    "    output_type=WebSearchPlan,\n",
    "    tools=tools_for_planner_agent\n",
    ")"
   ]
  },
  {
   "cell_type": "code",
   "execution_count": 204,
   "metadata": {},
   "outputs": [
    {
     "name": "stdout",
     "output_type": "stream",
     "text": [
      "searches=[WebSearchItem(reason='Understanding the leading frameworks will provide insight into current technological advancements and trends in AI agents.', query='most popular AI agent frameworks 2025 features'), WebSearchItem(reason='Identifying the challenges faced by developers will highlight areas needing improvements and innovation in the field.', query='challenges developers AI agent frameworks 2025'), WebSearchItem(reason='Assessing the impact of integration can reveal how AI agents are transforming industries and workflows.', query='AI agent frameworks integration into industries 2025')]\n"
     ]
    }
   ],
   "source": [
    "message = \"Latest AI Agent frameworks in 2025\"\n",
    "\n",
    "with trace(\"Test - Planner Agent\"):\n",
    "    result = await Runner.run(planner_agent, message)\n",
    "    print(result.final_output)"
   ]
  },
  {
   "cell_type": "code",
   "execution_count": 227,
   "metadata": {},
   "outputs": [
    {
     "data": {
      "text/plain": [
       "[FunctionTool(name='planner_agent', description='Generate web search terms', params_json_schema={'properties': {'input': {'title': 'Input', 'type': 'string'}}, 'required': ['input'], 'title': 'planner_agent_args', 'type': 'object', 'additionalProperties': False}, on_invoke_tool=<function function_tool.<locals>._create_function_tool.<locals>._on_invoke_tool at 0x119658400>, strict_json_schema=True, is_enabled=True)]"
      ]
     },
     "execution_count": 227,
     "metadata": {},
     "output_type": "execute_result"
    }
   ],
   "source": [
    "description = \"Generate web search terms\"\n",
    "\n",
    "tool_planner_agent = planner_agent.as_tool(tool_name=\"planner_agent\", tool_description=description)\n",
    "tools_for_research_manager_agent = [tool_planner_agent]\n",
    "tools_for_research_manager_agent"
   ]
  },
  {
   "cell_type": "markdown",
   "metadata": {},
   "source": [
    "### Gemini Search Agent\n",
    "- Create & test gemini_search_agent\n",
    "    - Someone has a version in the community contributions folder\n",
    "    - Take the list of queries and perform a search for each one\n",
    "    - Test with simulated query list\n",
    "    - Convert to .as_tool()"
   ]
  },
  {
   "cell_type": "code",
   "execution_count": 229,
   "metadata": {},
   "outputs": [],
   "source": [
    "GEMINI_BASE_URL = \"https://generativelanguage.googleapis.com/v1beta/openai\"\n",
    "GOOGLE_API_KEY = os.getenv(\"GOOGLE_API_KEY\")\n",
    "GOOGLE_CUSTOM_SEARCH_API_KEY = os.getenv(\"GOOGLE_CUSTOM_SEARCH_API_KEY\")\n",
    "GOOGLE_CSE_ID = os.getenv(\"GOOGLE_CSE_ID\")\n",
    "\n",
    "gemini_client = AsyncOpenAI(base_url=GEMINI_BASE_URL, api_key=os.getenv('GOOGLE_API_KEY'))\n",
    "gemini_model = OpenAIChatCompletionsModel(model=\"gemini-2.0-flash\",openai_client=gemini_client)"
   ]
  },
  {
   "cell_type": "code",
   "execution_count": 230,
   "metadata": {},
   "outputs": [],
   "source": [
    "# Tool for Web Search - Google doesn't offer a remote WebSearchTool like OpenAI\n",
    "\n",
    "@function_tool\n",
    "async def google_web_search(query: str) -> str:\n",
    "    \"\"\"\n",
    "    Performs a Google Search and returns a string of concatenated result snippets.\n",
    "    \"\"\"\n",
    "    endpoint = \"https://www.googleapis.com/customsearch/v1\"\n",
    "    params = {\n",
    "        \"key\": GOOGLE_CUSTOM_SEARCH_API_KEY,\n",
    "        \"cx\": GOOGLE_CSE_ID,\n",
    "        \"q\": query,\n",
    "        \"num\": 5,  # Number of results to fetch\n",
    "    }\n",
    "\n",
    "    response = requests.get(endpoint, params=params)\n",
    "    if response.status_code != 200:\n",
    "        raise RuntimeError(f\"Google Search API error {response.status_code}: {response.text}\")\n",
    "\n",
    "    data = response.json()\n",
    "    items = data.get(\"items\", [])\n",
    "\n",
    "    if not items:\n",
    "        return \"No results found.\"\n",
    "\n",
    "    # Combine title and snippet for each result\n",
    "    result_texts = []\n",
    "    for item in items:\n",
    "        title = item.get(\"title\", \"\").strip()\n",
    "        snippet = item.get(\"snippet\", \"\").strip()\n",
    "        link = item.get(\"link\", \"\").strip()\n",
    "        result_texts.append(f\"{title}\\n{snippet}\\n{link}\")\n",
    "\n",
    "    summary = \"\\n\\n\".join(result_texts)\n",
    "    return summary"
   ]
  },
  {
   "cell_type": "code",
   "execution_count": 231,
   "metadata": {},
   "outputs": [],
   "source": [
    "INSTRUCTIONS = \"You are a research assistant. Given a web search term, you search the web using the google_web_search tool \\\n",
    "for that term and produce a concise summary of the results. The summary must 5-8 paragraphs and between 500-1000 words \\\n",
    "words. Capture the main points. Write succintly, add evidence/facts, no need to have complete sentences or good \\\n",
    "grammar. This will be consumed by someone synthesizing a report, so it's vital you capture the \\\n",
    "essence and ignore any fluff. Do not include any additional commentary other than the summary itself.\"\n",
    "\n",
    "gemini_search_agent = Agent(\n",
    "    name=\"Gemini Search Agent\",\n",
    "    instructions=INSTRUCTIONS,\n",
    "    tools=[google_web_search],\n",
    "    model=gemini_model,\n",
    "    model_settings=ModelSettings(tool_choice=\"required\"),\n",
    ")"
   ]
  },
  {
   "cell_type": "code",
   "execution_count": 211,
   "metadata": {},
   "outputs": [
    {
     "data": {
      "text/markdown": [
       "Based on the search results, here's a summary of notable AI agent frameworks introduced or updated in 2025:\n",
       "\n",
       "**General Landscape**\n",
       "\n",
       "*   The field of AI agent frameworks is rapidly expanding and evolving in 2025.\n",
       "*   New tools, connectors, and community contributions are continuously emerging.\n",
       "*   Microsoft and Google are key players, introducing new models and tools.\n",
       "\n",
       "**Specific Frameworks and Updates**\n",
       "\n",
       "*   **Hugging Face Transformers Agents:** Leverages the power of transformer models.\n",
       "*   **LangChain:** The ecosystem is continuously growing.\n",
       "*   **Microsoft Azure AI:** Enhanced with enterprise-grade agents.\n",
       "*   **Google Agent Development Kit (ADK):** Facilitates building multi-agent applications, compatible with models like Gemini and those in Vertex AI Model Garden.\n",
       "\n",
       "**Key Announcements and Events**\n",
       "\n",
       "*   **Microsoft Build 2025:** Focused on AI agents and building an open agentic web, putting new models and coding agents in developers' hands.\n",
       "\n",
       "In short, 2025 sees considerable advancement in AI agent frameworks, with key players like Microsoft, Google, and Hugging Face introducing new tools and updates. The focus is on expanding capabilities, accessibility, and enterprise-grade solutions for AI agents.\n"
      ],
      "text/plain": [
       "<IPython.core.display.Markdown object>"
      ]
     },
     "metadata": {},
     "output_type": "display_data"
    }
   ],
   "source": [
    "message = \"notable AI agent frameworks introduced or updated in 2025\"\n",
    "\n",
    "with trace(\"Test - Gemini Search Agent\"):\n",
    "    result = await Runner.run(gemini_search_agent, message)\n",
    "\n",
    "display(Markdown(result.final_output))"
   ]
  },
  {
   "cell_type": "code",
   "execution_count": 232,
   "metadata": {},
   "outputs": [],
   "source": [
    "description = \"Search the web using Google Search\"\n",
    "\n",
    "tool_google_search = gemini_search_agent.as_tool(tool_name=\"gemini_search_agent\", tool_description=description)"
   ]
  },
  {
   "cell_type": "code",
   "execution_count": 233,
   "metadata": {},
   "outputs": [
    {
     "data": {
      "text/plain": [
       "[FunctionTool(name='planner_agent', description='Generate web search terms', params_json_schema={'properties': {'input': {'title': 'Input', 'type': 'string'}}, 'required': ['input'], 'title': 'planner_agent_args', 'type': 'object', 'additionalProperties': False}, on_invoke_tool=<function function_tool.<locals>._create_function_tool.<locals>._on_invoke_tool at 0x119658400>, strict_json_schema=True, is_enabled=True),\n",
       " FunctionTool(name='gemini_search_agent', description='Search the web using Google Search', params_json_schema={'properties': {'input': {'title': 'Input', 'type': 'string'}}, 'required': ['input'], 'title': 'gemini_search_agent_args', 'type': 'object', 'additionalProperties': False}, on_invoke_tool=<function function_tool.<locals>._create_function_tool.<locals>._on_invoke_tool at 0x11961bce0>, strict_json_schema=True, is_enabled=True)]"
      ]
     },
     "execution_count": 233,
     "metadata": {},
     "output_type": "execute_result"
    }
   ],
   "source": [
    "tools_for_research_manager_agent.append(tool_google_search)\n",
    "tools_for_research_manager_agent"
   ]
  },
  {
   "cell_type": "markdown",
   "metadata": {},
   "source": [
    "### OpenAI Search Agent\n",
    "- Adjust previous openai_search_agent & test\n",
    "    - Take the list of queries and perform a search for each one\n",
    "    - Test with simulated query list\n",
    "    - Convert to .as_tool()\n",
    "    "
   ]
  },
  {
   "cell_type": "code",
   "execution_count": 234,
   "metadata": {},
   "outputs": [],
   "source": [
    "INSTRUCTIONS = \"You are a research assistant. Given a web search term, you search the web \\\n",
    "for that term and produce a concise summary of the results. The summary must 5-8 paragraphs and between 500-1000 words \\\n",
    "words. Capture the main points. Write succintly, add evidence/facts, no need to have complete sentences or good \\\n",
    "grammar. This will be consumed by someone synthesizing a report, so it's vital you capture the \\\n",
    "essence and ignore any fluff. Do not include any additional commentary other than the summary itself.\"\n",
    "\n",
    "openai_search_agent = Agent(\n",
    "    name=\"Search Agent\",\n",
    "    instructions=INSTRUCTIONS,\n",
    "    tools=[WebSearchTool(search_context_size=\"low\")],\n",
    "    model=\"gpt-4o-mini\",\n",
    "    model_settings=ModelSettings(tool_choice=\"required\"),\n",
    ")"
   ]
  },
  {
   "cell_type": "code",
   "execution_count": 170,
   "metadata": {},
   "outputs": [
    {
     "data": {
      "text/markdown": [
       "In 2025, several notable AI agent frameworks have been introduced or updated, reflecting significant advancements in the field.\n",
       "\n",
       "**OpenAI's Operator**: Launched on January 23, 2025, Operator is an AI agent developed by OpenAI capable of autonomously performing tasks through web browser interactions, including filling forms, placing online orders, and scheduling appointments. It utilizes OpenAI's advanced models to expand practical automation capabilities for users in daily activities. Initially available to Pro-tier subscribers in the United States as a research preview, OpenAI plans to broaden its availability in the future. ([en.wikipedia.org](https://en.wikipedia.org/wiki/OpenAI_Operator?utm_source=openai))\n",
       "\n",
       "**AutoAgent**: Introduced in February 2025, AutoAgent is a fully-automated, zero-code framework designed for Large Language Model (LLM) agents. It enables users to create and deploy LLM agents through natural language alone, without the need for programming skills. Operating as an autonomous Agent Operating System, AutoAgent comprises key components such as Agentic System Utilities, an LLM-powered Actionable Engine, a Self-Managing File System, and a Self-Play Agent Customization module. This lightweight yet powerful system facilitates efficient and dynamic creation and modification of tools, agents, and workflows without coding requirements or manual intervention. ([arxiv.org](https://arxiv.org/abs/2502.05957?utm_source=openai))\n",
       "\n",
       "**Eliza**: In January 2025, Eliza was introduced as the first open-source, web3-friendly AI agent operating system. It seamlessly integrates web3 applications into AI agent functionalities, allowing for the reading and writing of blockchain data and interaction with smart contracts. Eliza emphasizes that every aspect of its runtime is a regular TypeScript program under the full control of its user, providing stability and performance. ([arxiv.org](https://arxiv.org/abs/2501.06781?utm_source=openai))\n",
       "\n",
       "**Manus**: Launched on March 6, 2025, Manus is an AI agent capable of operating independently based on large language models. It can autonomously handle complex tasks, including writing and deploying code, marking a significant advancement in AI agent capabilities. However, in July 2025, Manus faced regional restrictions in China, with its official website displaying messages indicating that the service was unavailable in the region. ([en.wikipedia.org](https://en.wikipedia.org/wiki/Manus_%28AI_agent%29?utm_source=openai))\n",
       "\n",
       "**Model Context Protocol (MCP)**: Introduced by Anthropic in November 2024, MCP is an open-source framework designed to standardize the way AI systems, like large language models, integrate and share data with external tools, systems, and data sources. It provides a universal interface for reading files, executing functions, and handling contextual prompts. In March 2025, OpenAI adopted MCP, integrating it across its products, including the ChatGPT desktop app and the OpenAI Agents SDK, to standardize AI tool connectivity. ([en.wikipedia.org](https://en.wikipedia.org/wiki/Model_Context_Protocol?utm_source=openai))\n",
       "\n",
       "**NLWeb**: Introduced by Microsoft in 2025, NLWeb is an open Python project designed to simplify the creation of natural language interfaces for websites. It enables users to query website contents using natural language, similar to interacting with an AI assistant. Each instance functions as an MCP server, allowing websites to make their content discoverable and accessible to AI agents and other participants. ([en.wikipedia.org](https://en.wikipedia.org/wiki/NLWeb?utm_source=openai))\n",
       "\n",
       "**Kruti**: Launched in June 2025 by Krutrim, Kruti is an agentic AI assistant designed to eliminate app-switch fatigue. It can accept documents, images, and text as input and uses an agentic framework where individual agents work together to efficiently complete a user's request. Kruti can function both as a platform and an AI agent, allowing for modification into domain-specific agents for diverse industries such as healthcare, education, and finance. ([en.wikipedia.org](https://en.wikipedia.org/wiki/Kruti?utm_source=openai))\n",
       "\n",
       "These developments highlight the rapid evolution of AI agent frameworks in 2025, emphasizing increased autonomy, integration with web3 technologies, and enhanced user accessibility. "
      ],
      "text/plain": [
       "<IPython.core.display.Markdown object>"
      ]
     },
     "metadata": {},
     "output_type": "display_data"
    }
   ],
   "source": [
    "message = \"notable AI agent frameworks introduced or updated in 2025\"\n",
    "\n",
    "with trace(\"Search\"):\n",
    "    result = await Runner.run(openai_search_agent, message)\n",
    "\n",
    "display(Markdown(result.final_output))"
   ]
  },
  {
   "cell_type": "code",
   "execution_count": 235,
   "metadata": {},
   "outputs": [],
   "source": [
    "description = \"Search the web using OpenAI's WebSearchTool\"\n",
    "\n",
    "tool_openai_search = openai_search_agent.as_tool(tool_name=\"openai_search_agent\", tool_description=description)"
   ]
  },
  {
   "cell_type": "code",
   "execution_count": 236,
   "metadata": {},
   "outputs": [
    {
     "data": {
      "text/plain": [
       "[FunctionTool(name='planner_agent', description='Generate web search terms', params_json_schema={'properties': {'input': {'title': 'Input', 'type': 'string'}}, 'required': ['input'], 'title': 'planner_agent_args', 'type': 'object', 'additionalProperties': False}, on_invoke_tool=<function function_tool.<locals>._create_function_tool.<locals>._on_invoke_tool at 0x119658400>, strict_json_schema=True, is_enabled=True),\n",
       " FunctionTool(name='gemini_search_agent', description='Search the web using Google Search', params_json_schema={'properties': {'input': {'title': 'Input', 'type': 'string'}}, 'required': ['input'], 'title': 'gemini_search_agent_args', 'type': 'object', 'additionalProperties': False}, on_invoke_tool=<function function_tool.<locals>._create_function_tool.<locals>._on_invoke_tool at 0x11961bce0>, strict_json_schema=True, is_enabled=True),\n",
       " FunctionTool(name='openai_search_agent', description=\"Search the web using OpenAI's WebSearchTool\", params_json_schema={'properties': {'input': {'title': 'Input', 'type': 'string'}}, 'required': ['input'], 'title': 'openai_search_agent_args', 'type': 'object', 'additionalProperties': False}, on_invoke_tool=<function function_tool.<locals>._create_function_tool.<locals>._on_invoke_tool at 0x11961ac00>, strict_json_schema=True, is_enabled=True)]"
      ]
     },
     "execution_count": 236,
     "metadata": {},
     "output_type": "execute_result"
    }
   ],
   "source": [
    "tools_for_research_manager_agent.append(tool_openai_search)\n",
    "tools_for_research_manager_agent"
   ]
  },
  {
   "cell_type": "markdown",
   "metadata": {},
   "source": [
    "### Editor Agent\n",
    "- Create an editor_agent\n",
    "    - Receives the report and edits it to a professional level\n",
    "    - Returns the same as writer_agent"
   ]
  },
  {
   "cell_type": "code",
   "execution_count": 237,
   "metadata": {},
   "outputs": [],
   "source": [
    "class ReportData(BaseModel):\n",
    "    short_summary: str = Field(description=\"A short 2-3 sentence summary of the findings.\")\n",
    "    markdown_report: str = Field(description=\"The final report\")\n",
    "    follow_up_questions: list[str] = Field(description=\"Suggested topics to research further\")"
   ]
  },
  {
   "cell_type": "code",
   "execution_count": 238,
   "metadata": {},
   "outputs": [],
   "source": [
    "INSTRUCTIONS = (\n",
    "    \"You are a senior editor tasked with editing and revising a cohesive report for a research query. \"\n",
    "    \"You will be provided with the report data including a short summary, full markdown_report, and some follow_up_questions\\n\"\n",
    "    \"You should first review the report, analyze the structure, correct grammar, spelling, sentence structure, etc. for profressionalism\"\n",
    "    \"Then, create a revised report using the original report as a basis and return that as your final output.\\n\"\n",
    "    \"The final output should be in markdown format, and it should be lengthy and detailed with FULL SENTENCES.\"\n",
    "    \"This is a research report, aim for 10-15 pages of content, AT LEAST 2000 words, maximum of 5000 words.\"\n",
    ")\n",
    "\n",
    "editor_agent = Agent(\n",
    "    name=\"Editor Agent\",\n",
    "    instructions=INSTRUCTIONS,\n",
    "    model=\"gpt-4o-mini\",\n",
    "    output_type=ReportData\n",
    ")"
   ]
  },
  {
   "cell_type": "markdown",
   "metadata": {},
   "source": [
    "### Writer Agent\n",
    "- Adjust the writer_agent\n",
    "    - Receives the research, writes a report, also returns a markdown report\n",
    "    - Handsoff to editor_agent"
   ]
  },
  {
   "cell_type": "code",
   "execution_count": 239,
   "metadata": {},
   "outputs": [],
   "source": [
    "INSTRUCTIONS = (\n",
    "    \"You are a senior researcher tasked with writing a cohesive report for a research query. \"\n",
    "    \"You will be provided with the original query, and some initial research done by a research assistant.\\n\"\n",
    "    \"You should first come up with an outline for the report that describes the structure and \"\n",
    "    \"flow of the report. Then, generate the report using the research as a basis and return that as your final output.\\n\"\n",
    "    \"The final output should be in markdown format, and it should be lengthy and detailed. Aim \"\n",
    "    \"for 10-15 pages of content, at least 2000 words.\"\n",
    "    \"Once you have gathered all research results, hand off the complete set of research materials to the `editor_agent`.\\n\"\n",
    "    \"The `writer_agent` will be responsible for synthesizing the information into a final research report.\"\n",
    ")\n",
    "\n",
    "writer_agent = Agent(\n",
    "    name=\"Writer Agent\",\n",
    "    instructions=INSTRUCTIONS,\n",
    "    model=\"gpt-4o-mini\",\n",
    "    output_type=ReportData,\n",
    "    handoffs=[handoff(editor_agent)]\n",
    ")"
   ]
  },
  {
   "cell_type": "markdown",
   "metadata": {},
   "source": [
    "### Research Manager Agent\n",
    "- Create a research_manager_agent\n",
    "    - Given a query use the planner_agent to generate search queries to research the query\n",
    "    - Next use the gemini_search_agent and openai_search_agents to conduct the search queries. They should each be used once for every search query. That way you receive two different results to consider for each query for the final research report. If you believe more information is needed to address the query, you can use the planner_agent only one additional time followed by the gemini_search_agent and the gemini_search_agent to gather additional research. You will then handoff this research to the writer_agent to write a report."
   ]
  },
  {
   "cell_type": "code",
   "execution_count": 240,
   "metadata": {},
   "outputs": [],
   "source": [
    "INSTRUCTIONS = \"\"\"\n",
    "You are a Research Manager Agent responsible for coordinating a multi-step research process to produce high-quality research reports.\n",
    "\n",
    "Follow this workflow precisely:\n",
    "\n",
    "1. **Planning Phase**\n",
    "   - When given a research query, always start by using the `planner_agent`.\n",
    "   - Use the `planner_agent` to generate a set of structured search queries. The planner will return these queries as a Pydantic model.\n",
    "\n",
    "2. **Initial Research Phase**\n",
    "   - For each search query provided by the planner, conduct research using both of the following agents:\n",
    "     - `gemini_search_agent`\n",
    "     - `openai_search_agent`\n",
    "   - You must use each of these search agents exactly once per search query. This ensures you gather two different perspectives for every query.\n",
    "\n",
    "3. **Supplemental Research (if necessary)**\n",
    "   - After reviewing the initial results, if you determine that additional information is required to adequately address the original research query, you may proceed to collect more research.\n",
    "   - To do this, you may call the `planner_agent` **only one additional time** to generate more search queries.\n",
    "   - For each additional search query, again use both:\n",
    "     - `gemini_search_agent`\n",
    "     - `openai_search_agent`\n",
    "   - Do not exceed this single additional round of planning and research.\n",
    "\n",
    "4. **Report Handoff**\n",
    "   - Once you have gathered all research results, hand off the complete set of research materials to the `writer_agent`.\n",
    "   - The `writer_agent` will be responsible for synthesizing the information into a final research report.\n",
    "\n",
    "Important Guidelines:\n",
    "- Always perform the research workflow in the sequence described: planner → search agents → (optional, only allowed to call 1 additional time) planner → search agents → writer.\n",
    "- Do not skip any steps or call the search agents before the planner.\n",
    "- DO NOT call the planner more than two (2) times TOTAL per query. You should only call it a maximum of 1 initial time and 1 additional time, for a total of 2 times.\n",
    "- Ensure all gathered results are organized clearly before passing them to the writer agent.\n",
    "\"\"\""
   ]
  },
  {
   "cell_type": "code",
   "execution_count": 241,
   "metadata": {},
   "outputs": [],
   "source": [
    "research_manager_agent = Agent(\n",
    "    name=\"Research Manager Agent\",\n",
    "    instructions=INSTRUCTIONS,\n",
    "    tools=tools_for_research_manager_agent,\n",
    "    model=\"gpt-4o-mini\",\n",
    "    model_settings=ModelSettings(tool_choice=\"required\"),\n",
    "    handoffs=[handoff(writer_agent)]\n",
    ")"
   ]
  },
  {
   "cell_type": "code",
   "execution_count": 249,
   "metadata": {},
   "outputs": [
    {
     "name": "stdout",
     "output_type": "stream",
     "text": [
      "Report Complete!\n"
     ]
    }
   ],
   "source": [
    "# RUN AGENTIC SYSTEM HERE!\n",
    "\n",
    "message = \"Latest AI Agent frameworks in 2025\"\n",
    "\n",
    "with trace(\"Search\"):\n",
    "    final_result = await Runner.run(research_manager_agent, message)\n",
    "    print(\"Report Complete!\")"
   ]
  },
  {
   "cell_type": "code",
   "execution_count": 250,
   "metadata": {},
   "outputs": [
    {
     "data": {
      "text/markdown": [
       "In 2025, several AI agent frameworks have gained prominence in the field, with LangChain, AutoGen, LangGraph, CrewAI, and SuperAGI leading the way. These frameworks offer diverse functionalities for developers, from workflow orchestration to advanced agent collaboration, responding to an increasing demand for AI-driven automation and task management solutions."
      ],
      "text/plain": [
       "<IPython.core.display.Markdown object>"
      ]
     },
     "metadata": {},
     "output_type": "display_data"
    }
   ],
   "source": [
    "display(Markdown(final_result.final_output.short_summary))"
   ]
  },
  {
   "cell_type": "code",
   "execution_count": 251,
   "metadata": {},
   "outputs": [
    {
     "data": {
      "text/markdown": [
       "# Latest AI Agent Frameworks in 2025\n",
       "\n",
       "As of 2025, the landscape of AI agent frameworks has witnessed significant evolution, aligning with the rapid advancements in artificial intelligence technologies. These frameworks are pivotal for developing Intelligent Agents, which are designed to execute tasks with a degree of autonomy and intelligence. By harnessing a combination of machine learning, natural language processing, and advanced orchestration techniques, developers can leverage these frameworks to build efficient AI systems capable of handling complex workflows. This report will delve into the leading frameworks of 2025, examining their features, applications, and inherent challenges.\n",
       "\n",
       "### 1. **LangChain**  \n",
       "LangChain has solidified its position as a premier framework for constructing large language model (LLM)-powered agents. Leveraging a modular architecture, LangChain empowers developers to create intricate workflows by integrating various components such as natural language models, APIs, memory modules, and user-defined processes. \n",
       "\n",
       "#### Key Features:  \n",
       "- **Modular Integration**: Supports multiple LLMs, enhancing compatibility across diverse machine learning environments.  \n",
       "- **Comprehensive Ecosystem**: Offers an extensive collection of tools and libraries, including Google Search API, SQL connectors, Python execution capabilities, and user-defined operational chains.  \n",
       "- **Memory and Conversation Tracking**: Facilitates the retention of contextual information across user interactions via vector store integrations.  \n",
       "- **Extensibility**: Allows for the creation of custom tool and agent definitions tailored to specific needs.\n",
       "\n",
       "Despite its advantages, using LangChain necessitates an in-depth understanding of prompt engineering and LLM behavior, along with vigilance regarding potential backward compatibility issues in a rapidly evolving API landscape.\n",
       "\n",
       "### 2. **AutoGen**  \n",
       "Developed by Microsoft, AutoGen distinguishes itself through its specialization in multi-agent systems and automation of code generation. This framework enables the deployment of multiple agents capable of collaborating seamlessly in natural language, effectively completing complex tasks by interacting dynamically.  \n",
       "\n",
       "#### Key Features:  \n",
       "- **Collaborative Agents**: Configurable agents such as Planner, Developer, and Reviewer work together to achieve goals, enhancing productivity and enabling task division.  \n",
       "- **AutoGen Studio**: A graphical User Interface (UI) simplifies the prototyping and testing of agents, making the deployment process more user-friendly.  \n",
       "- **Python Code Generation**: Agents can autonomously generate, execute, and review Python code, implement error recovery through retries, and leverage out-of-the-box agent templates.\n",
       "\n",
       "While AutoGen offers compelling features, it also presents challenges, including the potential for looping dialogues among agents if not properly constrained and the intricate nature of prompt crafting and orchestration logic required for effective multi-agent collaboration.\n",
       "\n",
       "### 3. **LangGraph**  \n",
       "As an extension of LangChain, LangGraph allows developers to define agents as state machines, where nodes represent various steps and edges denote the transitions in workflows. This framework is particularly suited for tasks requiring deterministic control and fine-grained management of workflows.  \n",
       "\n",
       "#### Key Features:  \n",
       "- **State Machine Representation**: Empowers developers to model complex workflows with conditional branching, retries, and persistent states.  \n",
       "- **Integration with LangChain**: Capitalizes on the existing tools and integrations found within LangChain, enriching the user experience.  \n",
       "- **Debugging and Visualization**: Facilitates monitoring agent behavior over time, enhancing the debuggability of intricate workflows.\n",
       "\n",
       "However, the complexity of integrating LangGraph with LangChain and the necessity of understanding both graph structures and the workflow modeling may deter some developers from fully utilizing its potential.\n",
       "\n",
       "### 4. **CrewAI**  \n",
       "CrewAI is designed to orchestrate multiple autonomous AI agents that can collaboratively achieve shared objectives. This framework emphasizes specialization, enhancing efficiency in executing complex workflows that require precise collaboration among agents.  \n",
       "\n",
       "#### Key Features:  \n",
       "- **Role-Based Design**: Developers define specific roles and tasks for a \"crew\" of agents, optimizing the workflow for target outcomes.  \n",
       "- **Task Management**: Facilitates structured task assignments and process orchestration tailored to collaborative efforts.\n",
       "\n",
       "While CrewAI brings a fresh approach to agent orchestration, its current focus on strictly sequential workflows limits its applicability for users seeking parallel execution of agents. Furthermore, its novelty may pose challenges concerning community support and comprehensive documentation.\n",
       "\n",
       "### 5. **SuperAGI**  \n",
       "SuperAGI positions itself as a comprehensive agent-operating system, offering features that facilitate extensive runtime management, agent supervision, and monitoring out-of-the-box. A web-based interface simplifies interaction with concurrent agents equipped with persistent memory and telemetry systems.  \n",
       "\n",
       "#### Key Features:  \n",
       "- **Concurrent Agent Management**: Sufficient support for running multiple agents simultaneously, allowing for enhanced parallel processing capabilities.  \n",
       "- **Built-in Tools**: Incorporates web search, file I/O operations, code execution capabilities, and browsing functionality to extend the agents’ operational scope.  \n",
       "- **Plugin Marketplace**: Facilitates the expansion of functionalities through a marketplace where developers can access additional tools and plugins.\n",
       "\n",
       "On the downside, SuperAGI requires extensive setup, especially for environments demanding persistent deployments, and relies on specific infrastructure such as Docker, Redis, and database systems for effective implementation.\n",
       "\n",
       "### Conclusion\n",
       "In summary, the AI agent frameworks of 2025—LangChain, AutoGen, LangGraph, CrewAI, and SuperAGI—each contribute distinctive functionalities that broaden the horizons of AI application development. While LangChain remains a go-to option for LLM-based agents, AutoGen and CrewAI extend the collaborative capabilities of AI systems, effectively streamlining functions across diverse operational contexts. On the other hand, LangGraph facilitates structured workflow execution, while SuperAGI provides a comprehensive management solution for concurrent agents. As developers continue to navigate an increasingly complex AI landscape, the choice of framework will ultimately depend on specific project requirements, scalability needs, and compatibility considerations.\n",
       "\n",
       "### Follow-Up Questions\n",
       "- How do the frameworks compare in terms of performance and scalability when deployed in real-world applications?  \n",
       "- What are the best practices for integrating these frameworks with existing systems and workflows?  \n",
       "- What are the potential ethical considerations and security implications of using AI agent frameworks in sensitive domains?  \n",
       "- How is the community support and documentation for each framework, and how does it impact developer adoption?  \n",
       "- How do the frameworks address issues related to data privacy and compliance with regulations?"
      ],
      "text/plain": [
       "<IPython.core.display.Markdown object>"
      ]
     },
     "metadata": {},
     "output_type": "display_data"
    }
   ],
   "source": [
    "display(Markdown(final_result.final_output.markdown_report))"
   ]
  },
  {
   "cell_type": "markdown",
   "metadata": {},
   "source": [
    "### Trace\n",
    "\n",
    "https://platform.openai.com/traces"
   ]
  },
  {
   "cell_type": "code",
   "execution_count": 252,
   "metadata": {},
   "outputs": [
    {
     "data": {
      "image/svg+xml": [
       "<?xml version=\"1.0\" encoding=\"UTF-8\" standalone=\"no\"?>\n",
       "<!DOCTYPE svg PUBLIC \"-//W3C//DTD SVG 1.1//EN\"\n",
       " \"http://www.w3.org/Graphics/SVG/1.1/DTD/svg11.dtd\">\n",
       "<!-- Generated by graphviz version 13.0.1 (20250615.1724)\n",
       " -->\n",
       "<!-- Title: G Pages: 1 -->\n",
       "<svg width=\"726pt\" height=\"229pt\"\n",
       " viewBox=\"0.00 0.00 726.00 229.00\" xmlns=\"http://www.w3.org/2000/svg\" xmlns:xlink=\"http://www.w3.org/1999/xlink\">\n",
       "<g id=\"graph0\" class=\"graph\" transform=\"scale(1 1) rotate(0) translate(4 224.79)\">\n",
       "<title>G</title>\n",
       "<polygon fill=\"white\" stroke=\"none\" points=\"-4,4 -4,-224.79 722.3,-224.79 722.3,4 -4,4\"/>\n",
       "<!-- __start__ -->\n",
       "<g id=\"node1\" class=\"node\">\n",
       "<title>__start__</title>\n",
       "<ellipse fill=\"lightblue\" stroke=\"black\" cx=\"265.3\" cy=\"-203.99\" rx=\"51.09\" ry=\"16.79\"/>\n",
       "<text xml:space=\"preserve\" text-anchor=\"middle\" x=\"265.3\" y=\"-198.57\" font-family=\"Arial\" font-size=\"14.00\">__start__</text>\n",
       "</g>\n",
       "<!-- Research Manager Agent -->\n",
       "<g id=\"node3\" class=\"node\">\n",
       "<title>Research Manager Agent</title>\n",
       "<polygon fill=\"lightyellow\" stroke=\"black\" points=\"350.18,-151.2 180.43,-151.2 180.43,-93.6 350.18,-93.6 350.18,-151.2\"/>\n",
       "<text xml:space=\"preserve\" text-anchor=\"middle\" x=\"265.3\" y=\"-116.97\" font-family=\"Arial\" font-size=\"14.00\">Research Manager Agent</text>\n",
       "</g>\n",
       "<!-- __start__&#45;&gt;Research Manager Agent -->\n",
       "<g id=\"edge1\" class=\"edge\">\n",
       "<title>__start__&#45;&gt;Research Manager Agent</title>\n",
       "<path fill=\"none\" stroke=\"black\" stroke-width=\"1.5\" d=\"M265.3,-186.89C265.3,-180.05 265.3,-171.75 265.3,-163.43\"/>\n",
       "<polygon fill=\"black\" stroke=\"black\" stroke-width=\"1.5\" points=\"268.8,-163.68 265.3,-153.68 261.8,-163.68 268.8,-163.68\"/>\n",
       "</g>\n",
       "<!-- __end__ -->\n",
       "<g id=\"node2\" class=\"node\">\n",
       "<title>__end__</title>\n",
       "<ellipse fill=\"lightblue\" stroke=\"black\" cx=\"383.3\" cy=\"-203.99\" rx=\"48.44\" ry=\"16.79\"/>\n",
       "<text xml:space=\"preserve\" text-anchor=\"middle\" x=\"383.3\" y=\"-198.57\" font-family=\"Arial\" font-size=\"14.00\">__end__</text>\n",
       "</g>\n",
       "<!-- planner_agent -->\n",
       "<g id=\"node4\" class=\"node\">\n",
       "<title>planner_agent</title>\n",
       "<ellipse fill=\"lightgreen\" stroke=\"black\" cx=\"72.3\" cy=\"-28.8\" rx=\"72.3\" ry=\"16.79\"/>\n",
       "<text xml:space=\"preserve\" text-anchor=\"middle\" x=\"72.3\" y=\"-23.37\" font-family=\"Arial\" font-size=\"14.00\">planner_agent</text>\n",
       "</g>\n",
       "<!-- Research Manager Agent&#45;&gt;planner_agent -->\n",
       "<g id=\"edge2\" class=\"edge\">\n",
       "<title>Research Manager Agent&#45;&gt;planner_agent</title>\n",
       "<path fill=\"none\" stroke=\"black\" stroke-width=\"1.5\" stroke-dasharray=\"1,5\" d=\"M199.53,-93.17C169.43,-79.25 134.92,-62.78 109.39,-50.12\"/>\n",
       "<polygon fill=\"black\" stroke=\"black\" stroke-width=\"1.5\" points=\"111.23,-47.12 100.72,-45.78 108.1,-53.38 111.23,-47.12\"/>\n",
       "</g>\n",
       "<!-- gemini_search_agent -->\n",
       "<g id=\"node5\" class=\"node\">\n",
       "<title>gemini_search_agent</title>\n",
       "<ellipse fill=\"lightgreen\" stroke=\"black\" cx=\"265.3\" cy=\"-28.8\" rx=\"103.06\" ry=\"16.79\"/>\n",
       "<text xml:space=\"preserve\" text-anchor=\"middle\" x=\"265.3\" y=\"-23.37\" font-family=\"Arial\" font-size=\"14.00\">gemini_search_agent</text>\n",
       "</g>\n",
       "<!-- Research Manager Agent&#45;&gt;gemini_search_agent -->\n",
       "<g id=\"edge4\" class=\"edge\">\n",
       "<title>Research Manager Agent&#45;&gt;gemini_search_agent</title>\n",
       "<path fill=\"none\" stroke=\"black\" stroke-width=\"1.5\" stroke-dasharray=\"1,5\" d=\"M259.03,-93.42C258.4,-82.23 258.39,-69.35 259.01,-58.12\"/>\n",
       "<polygon fill=\"black\" stroke=\"black\" stroke-width=\"1.5\" points=\"262.5,-58.42 259.83,-48.16 255.52,-57.84 262.5,-58.42\"/>\n",
       "</g>\n",
       "<!-- openai_search_agent -->\n",
       "<g id=\"node6\" class=\"node\">\n",
       "<title>openai_search_agent</title>\n",
       "<ellipse fill=\"lightgreen\" stroke=\"black\" cx=\"489.3\" cy=\"-28.8\" rx=\"103.06\" ry=\"16.79\"/>\n",
       "<text xml:space=\"preserve\" text-anchor=\"middle\" x=\"489.3\" y=\"-23.37\" font-family=\"Arial\" font-size=\"14.00\">openai_search_agent</text>\n",
       "</g>\n",
       "<!-- Research Manager Agent&#45;&gt;openai_search_agent -->\n",
       "<g id=\"edge6\" class=\"edge\">\n",
       "<title>Research Manager Agent&#45;&gt;openai_search_agent</title>\n",
       "<path fill=\"none\" stroke=\"black\" stroke-width=\"1.5\" stroke-dasharray=\"1,5\" d=\"M328.05,-93.17C362.33,-78.83 404.25,-61.78 436.8,-48.98\"/>\n",
       "<polygon fill=\"black\" stroke=\"black\" stroke-width=\"1.5\" points=\"437.74,-52.37 445.78,-45.46 435.19,-45.85 437.74,-52.37\"/>\n",
       "</g>\n",
       "<!-- Writer Agent -->\n",
       "<g id=\"node7\" class=\"node\">\n",
       "<title>Writer Agent</title>\n",
       "<path fill=\"none\" stroke=\"black\" d=\"M706.3,-57.6C706.3,-57.6 622.3,-57.6 622.3,-57.6 616.3,-57.6 610.3,-51.6 610.3,-45.6 610.3,-45.6 610.3,-12 610.3,-12 610.3,-6 616.3,0 622.3,0 622.3,0 706.3,0 706.3,0 712.3,0 718.3,-6 718.3,-12 718.3,-12 718.3,-45.6 718.3,-45.6 718.3,-51.6 712.3,-57.6 706.3,-57.6\"/>\n",
       "<text xml:space=\"preserve\" text-anchor=\"middle\" x=\"664.3\" y=\"-23.37\" font-family=\"Arial\" font-size=\"14.00\">Writer Agent</text>\n",
       "</g>\n",
       "<!-- Research Manager Agent&#45;&gt;Writer Agent -->\n",
       "<g id=\"edge8\" class=\"edge\">\n",
       "<title>Research Manager Agent&#45;&gt;Writer Agent</title>\n",
       "<path fill=\"none\" stroke=\"black\" stroke-width=\"1.5\" d=\"M350.49,-110.7C416.32,-101.19 509.59,-85 598.32,-58.26\"/>\n",
       "<polygon fill=\"black\" stroke=\"black\" stroke-width=\"1.5\" points=\"599.26,-61.64 607.79,-55.35 597.2,-54.95 599.26,-61.64\"/>\n",
       "</g>\n",
       "<!-- planner_agent&#45;&gt;Research Manager Agent -->\n",
       "<g id=\"edge3\" class=\"edge\">\n",
       "<title>planner_agent&#45;&gt;Research Manager Agent</title>\n",
       "<path fill=\"none\" stroke=\"black\" stroke-width=\"1.5\" stroke-dasharray=\"1,5\" d=\"M106.98,-43.87C133.19,-55.57 169.79,-72.71 201.23,-87.89\"/>\n",
       "<polygon fill=\"black\" stroke=\"black\" stroke-width=\"1.5\" points=\"199.54,-90.96 210.07,-92.18 202.6,-84.66 199.54,-90.96\"/>\n",
       "</g>\n",
       "<!-- gemini_search_agent&#45;&gt;Research Manager Agent -->\n",
       "<g id=\"edge5\" class=\"edge\">\n",
       "<title>gemini_search_agent&#45;&gt;Research Manager Agent</title>\n",
       "<path fill=\"none\" stroke=\"black\" stroke-width=\"1.5\" stroke-dasharray=\"1,5\" d=\"M270.59,-45.9C271.74,-55.74 272.21,-68.79 272.01,-81.27\"/>\n",
       "<polygon fill=\"black\" stroke=\"black\" stroke-width=\"1.5\" points=\"268.51,-81.03 271.66,-91.15 275.51,-81.28 268.51,-81.03\"/>\n",
       "</g>\n",
       "<!-- openai_search_agent&#45;&gt;Research Manager Agent -->\n",
       "<g id=\"edge7\" class=\"edge\">\n",
       "<title>openai_search_agent&#45;&gt;Research Manager Agent</title>\n",
       "<path fill=\"none\" stroke=\"black\" stroke-width=\"1.5\" stroke-dasharray=\"1,5\" d=\"M456.95,-45.15C429.43,-57 388.75,-73.82 351.91,-88.64\"/>\n",
       "<polygon fill=\"black\" stroke=\"black\" stroke-width=\"1.5\" points=\"350.71,-85.35 342.73,-92.32 353.32,-91.85 350.71,-85.35\"/>\n",
       "</g>\n",
       "</g>\n",
       "</svg>\n"
      ],
      "text/plain": [
       "<graphviz.sources.Source at 0x119488770>"
      ]
     },
     "execution_count": 252,
     "metadata": {},
     "output_type": "execute_result"
    }
   ],
   "source": [
    "from agents.extensions.visualization import draw_graph\n",
    "draw_graph(research_manager_agent)"
   ]
  },
  {
   "cell_type": "code",
   "execution_count": 247,
   "metadata": {},
   "outputs": [
    {
     "data": {
      "image/svg+xml": [
       "<?xml version=\"1.0\" encoding=\"UTF-8\" standalone=\"no\"?>\n",
       "<!DOCTYPE svg PUBLIC \"-//W3C//DTD SVG 1.1//EN\"\n",
       " \"http://www.w3.org/Graphics/SVG/1.1/DTD/svg11.dtd\">\n",
       "<!-- Generated by graphviz version 13.0.1 (20250615.1724)\n",
       " -->\n",
       "<!-- Title: G Pages: 1 -->\n",
       "<svg width=\"228pt\" height=\"229pt\"\n",
       " viewBox=\"0.00 0.00 228.00 229.00\" xmlns=\"http://www.w3.org/2000/svg\" xmlns:xlink=\"http://www.w3.org/1999/xlink\">\n",
       "<g id=\"graph0\" class=\"graph\" transform=\"scale(1 1) rotate(0) translate(4 224.79)\">\n",
       "<title>G</title>\n",
       "<polygon fill=\"white\" stroke=\"none\" points=\"-4,4 -4,-224.79 224.44,-224.79 224.44,4 -4,4\"/>\n",
       "<!-- __start__ -->\n",
       "<g id=\"node1\" class=\"node\">\n",
       "<title>__start__</title>\n",
       "<ellipse fill=\"lightblue\" stroke=\"black\" cx=\"54\" cy=\"-203.99\" rx=\"51.09\" ry=\"16.79\"/>\n",
       "<text xml:space=\"preserve\" text-anchor=\"middle\" x=\"54\" y=\"-198.57\" font-family=\"Arial\" font-size=\"14.00\">__start__</text>\n",
       "</g>\n",
       "<!-- Writer Agent -->\n",
       "<g id=\"node3\" class=\"node\">\n",
       "<title>Writer Agent</title>\n",
       "<polygon fill=\"lightyellow\" stroke=\"black\" points=\"108,-151.2 0,-151.2 0,-93.6 108,-93.6 108,-151.2\"/>\n",
       "<text xml:space=\"preserve\" text-anchor=\"middle\" x=\"54\" y=\"-116.97\" font-family=\"Arial\" font-size=\"14.00\">Writer Agent</text>\n",
       "</g>\n",
       "<!-- __start__&#45;&gt;Writer Agent -->\n",
       "<g id=\"edge1\" class=\"edge\">\n",
       "<title>__start__&#45;&gt;Writer Agent</title>\n",
       "<path fill=\"none\" stroke=\"black\" stroke-width=\"1.5\" d=\"M54,-186.89C54,-180.05 54,-171.75 54,-163.43\"/>\n",
       "<polygon fill=\"black\" stroke=\"black\" stroke-width=\"1.5\" points=\"57.5,-163.68 54,-153.68 50.5,-163.68 57.5,-163.68\"/>\n",
       "</g>\n",
       "<!-- __end__ -->\n",
       "<g id=\"node2\" class=\"node\">\n",
       "<title>__end__</title>\n",
       "<ellipse fill=\"lightblue\" stroke=\"black\" cx=\"172\" cy=\"-203.99\" rx=\"48.44\" ry=\"16.79\"/>\n",
       "<text xml:space=\"preserve\" text-anchor=\"middle\" x=\"172\" y=\"-198.57\" font-family=\"Arial\" font-size=\"14.00\">__end__</text>\n",
       "</g>\n",
       "<!-- Editor Agent -->\n",
       "<g id=\"node4\" class=\"node\">\n",
       "<title>Editor Agent</title>\n",
       "<path fill=\"none\" stroke=\"black\" d=\"M96,-57.6C96,-57.6 12,-57.6 12,-57.6 6,-57.6 0,-51.6 0,-45.6 0,-45.6 0,-12 0,-12 0,-6 6,0 12,0 12,0 96,0 96,0 102,0 108,-6 108,-12 108,-12 108,-45.6 108,-45.6 108,-51.6 102,-57.6 96,-57.6\"/>\n",
       "<text xml:space=\"preserve\" text-anchor=\"middle\" x=\"54\" y=\"-23.37\" font-family=\"Arial\" font-size=\"14.00\">Editor Agent</text>\n",
       "</g>\n",
       "<!-- Writer Agent&#45;&gt;Editor Agent -->\n",
       "<g id=\"edge2\" class=\"edge\">\n",
       "<title>Writer Agent&#45;&gt;Editor Agent</title>\n",
       "<path fill=\"none\" stroke=\"black\" stroke-width=\"1.5\" d=\"M54,-93.42C54,-86.03 54,-77.91 54,-70.01\"/>\n",
       "<polygon fill=\"black\" stroke=\"black\" stroke-width=\"1.5\" points=\"57.5,-70.2 54,-60.2 50.5,-70.2 57.5,-70.2\"/>\n",
       "</g>\n",
       "</g>\n",
       "</svg>\n"
      ],
      "text/plain": [
       "<graphviz.sources.Source at 0x119cafb30>"
      ]
     },
     "execution_count": 247,
     "metadata": {},
     "output_type": "execute_result"
    }
   ],
   "source": [
    "from agents.extensions.visualization import draw_graph\n",
    "draw_graph(writer_agent)"
   ]
  },
  {
   "cell_type": "code",
   "execution_count": 248,
   "metadata": {},
   "outputs": [
    {
     "data": {
      "image/svg+xml": [
       "<?xml version=\"1.0\" encoding=\"UTF-8\" standalone=\"no\"?>\n",
       "<!DOCTYPE svg PUBLIC \"-//W3C//DTD SVG 1.1//EN\"\n",
       " \"http://www.w3.org/Graphics/SVG/1.1/DTD/svg11.dtd\">\n",
       "<!-- Generated by graphviz version 13.0.1 (20250615.1724)\n",
       " -->\n",
       "<!-- Title: G Pages: 1 -->\n",
       "<svg width=\"116pt\" height=\"205pt\"\n",
       " viewBox=\"0.00 0.00 116.00 205.00\" xmlns=\"http://www.w3.org/2000/svg\" xmlns:xlink=\"http://www.w3.org/1999/xlink\">\n",
       "<g id=\"graph0\" class=\"graph\" transform=\"scale(1 1) rotate(0) translate(4 200.78)\">\n",
       "<title>G</title>\n",
       "<polygon fill=\"white\" stroke=\"none\" points=\"-4,4 -4,-200.78 112,-200.78 112,4 -4,4\"/>\n",
       "<!-- __start__ -->\n",
       "<g id=\"node1\" class=\"node\">\n",
       "<title>__start__</title>\n",
       "<ellipse fill=\"lightblue\" stroke=\"black\" cx=\"54\" cy=\"-179.98\" rx=\"51.09\" ry=\"16.79\"/>\n",
       "<text xml:space=\"preserve\" text-anchor=\"middle\" x=\"54\" y=\"-174.56\" font-family=\"Arial\" font-size=\"14.00\">__start__</text>\n",
       "</g>\n",
       "<!-- Editor Agent -->\n",
       "<g id=\"node3\" class=\"node\">\n",
       "<title>Editor Agent</title>\n",
       "<polygon fill=\"lightyellow\" stroke=\"black\" points=\"108,-127.19 0,-127.19 0,-69.59 108,-69.59 108,-127.19\"/>\n",
       "<text xml:space=\"preserve\" text-anchor=\"middle\" x=\"54\" y=\"-92.96\" font-family=\"Arial\" font-size=\"14.00\">Editor Agent</text>\n",
       "</g>\n",
       "<!-- __start__&#45;&gt;Editor Agent -->\n",
       "<g id=\"edge1\" class=\"edge\">\n",
       "<title>__start__&#45;&gt;Editor Agent</title>\n",
       "<path fill=\"none\" stroke=\"black\" stroke-width=\"1.5\" d=\"M54,-162.87C54,-156.04 54,-147.74 54,-139.42\"/>\n",
       "<polygon fill=\"black\" stroke=\"black\" stroke-width=\"1.5\" points=\"57.5,-139.66 54,-129.66 50.5,-139.66 57.5,-139.66\"/>\n",
       "</g>\n",
       "<!-- __end__ -->\n",
       "<g id=\"node2\" class=\"node\">\n",
       "<title>__end__</title>\n",
       "<ellipse fill=\"lightblue\" stroke=\"black\" cx=\"54\" cy=\"-16.79\" rx=\"48.44\" ry=\"16.79\"/>\n",
       "<text xml:space=\"preserve\" text-anchor=\"middle\" x=\"54\" y=\"-11.37\" font-family=\"Arial\" font-size=\"14.00\">__end__</text>\n",
       "</g>\n",
       "<!-- Editor Agent&#45;&gt;__end__ -->\n",
       "<g id=\"edge2\" class=\"edge\">\n",
       "<title>Editor Agent&#45;&gt;__end__</title>\n",
       "<path fill=\"none\" stroke=\"black\" stroke-width=\"1.5\" d=\"M54,-69.1C54,-61.64 54,-53.58 54,-46.11\"/>\n",
       "<polygon fill=\"black\" stroke=\"black\" stroke-width=\"1.5\" points=\"57.5,-46.21 54,-36.21 50.5,-46.21 57.5,-46.21\"/>\n",
       "</g>\n",
       "</g>\n",
       "</svg>\n"
      ],
      "text/plain": [
       "<graphviz.sources.Source at 0x119d04380>"
      ]
     },
     "execution_count": 248,
     "metadata": {},
     "output_type": "execute_result"
    }
   ],
   "source": [
    "from agents.extensions.visualization import draw_graph\n",
    "draw_graph(editor_agent)"
   ]
  }
 ],
 "metadata": {
  "kernelspec": {
   "display_name": ".venv",
   "language": "python",
   "name": "python3"
  },
  "language_info": {
   "codemirror_mode": {
    "name": "ipython",
    "version": 3
   },
   "file_extension": ".py",
   "mimetype": "text/x-python",
   "name": "python",
   "nbconvert_exporter": "python",
   "pygments_lexer": "ipython3",
   "version": "3.12.11"
  }
 },
 "nbformat": 4,
 "nbformat_minor": 2
}
