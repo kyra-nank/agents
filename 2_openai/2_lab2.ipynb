{
 "cells": [
  {
   "cell_type": "markdown",
   "metadata": {},
   "source": [
    "## Week 2 Day 2\n",
    "\n",
    "Our first Agentic Framework project!!\n",
    "\n",
    "Prepare yourself for something ridiculously easy.\n",
    "\n",
    "We're going to build a simple Agent system for generating cold sales outreach emails:\n",
    "1. Agent workflow\n",
    "2. Use of tools to call functions\n",
    "3. Agent collaboration via Tools and Handoffs"
   ]
  },
  {
   "cell_type": "markdown",
   "metadata": {},
   "source": [
    "## Before we start - some setup:\n",
    "\n",
    "\n",
    "Please visit Sendgrid at: https://sendgrid.com/\n",
    "\n",
    "(Sendgrid is a Twilio company for sending emails.)\n",
    "\n",
    "Please set up an account - it's free! (at least, for me, right now).\n",
    "\n",
    "Once you've created an account, click on:\n",
    "\n",
    "Settings (left sidebar) >> API Keys >> Create API Key (button on top right)\n",
    "\n",
    "Copy the key to the clipboard, then add a new line to your .env file:\n",
    "\n",
    "`SENDGRID_API_KEY=xxxx`\n",
    "\n",
    "And also, within SendGrid, go to:\n",
    "\n",
    "Settings (left sidebar) >> Sender Authentication >> \"Verify a Single Sender\"  \n",
    "and verify that your own email address is a real email address, so that SendGrid can send emails for you.\n"
   ]
  },
  {
   "cell_type": "code",
   "execution_count": 33,
   "metadata": {},
   "outputs": [],
   "source": [
    "from dotenv import load_dotenv\n",
    "from agents import Agent, Runner, trace, function_tool, handoff\n",
    "from openai.types.responses import ResponseTextDeltaEvent\n",
    "from typing import Dict\n",
    "import sendgrid\n",
    "import os\n",
    "from sendgrid.helpers.mail import Mail, Email, To, Content\n",
    "import asyncio\n",
    "\n"
   ]
  },
  {
   "cell_type": "code",
   "execution_count": 21,
   "metadata": {},
   "outputs": [
    {
     "data": {
      "text/plain": [
       "True"
      ]
     },
     "execution_count": 21,
     "metadata": {},
     "output_type": "execute_result"
    }
   ],
   "source": [
    "load_dotenv(override=True)"
   ]
  },
  {
   "cell_type": "markdown",
   "metadata": {},
   "source": [
    "## Step 1: Agent workflow"
   ]
  },
  {
   "cell_type": "code",
   "execution_count": 3,
   "metadata": {},
   "outputs": [],
   "source": [
    "instructions1 = \"You are a sales agent working for ComplAI, \\\n",
    "a company that provides a SaaS tool for ensuring SOC2 compliance and preparing for audits, powered by AI. \\\n",
    "You write professional, serious cold emails.\"\n",
    "\n",
    "instructions2 = \"You are a humorous, engaging sales agent working for ComplAI, \\\n",
    "a company that provides a SaaS tool for ensuring SOC2 compliance and preparing for audits, powered by AI. \\\n",
    "You write witty, engaging cold emails that are likely to get a response.\"\n",
    "\n",
    "instructions3 = \"You are a busy sales agent working for ComplAI, \\\n",
    "a company that provides a SaaS tool for ensuring SOC2 compliance and preparing for audits, powered by AI. \\\n",
    "You write concise, to the point cold emails.\""
   ]
  },
  {
   "cell_type": "code",
   "execution_count": 4,
   "metadata": {},
   "outputs": [],
   "source": [
    "sales_agent1 = Agent(\n",
    "        name=\"Professional Sales Agent\",\n",
    "        instructions=instructions1,\n",
    "        model=\"gpt-4o-mini\"\n",
    ")\n",
    "\n",
    "sales_agent2 = Agent(\n",
    "        name=\"Engaging Sales Agent\",\n",
    "        instructions=instructions2,\n",
    "        model=\"gpt-4o-mini\"\n",
    ")\n",
    "\n",
    "sales_agent3 = Agent(\n",
    "        name=\"Busy Sales Agent\",\n",
    "        instructions=instructions3,\n",
    "        model=\"gpt-4o-mini\"\n",
    ")"
   ]
  },
  {
   "cell_type": "code",
   "execution_count": 5,
   "metadata": {},
   "outputs": [
    {
     "name": "stdout",
     "output_type": "stream",
     "text": [
      "Subject: Simplify Your SOC 2 Compliance Journey with ComplAI\n",
      "\n",
      "Hi [Recipient's Name],\n",
      "\n",
      "I hope this message finds you well.\n",
      "\n",
      "As organizations increasingly prioritize data security and compliance, navigating the complexities of SOC 2 can be daunting. At ComplAI, we understand the challenges you face in preparing for audits while ensuring ongoing compliance.\n",
      "\n",
      "Our AI-powered SaaS tool is designed to streamline the SOC 2 compliance process, providing you with the resources needed to automate documentation, monitor ongoing compliance, and prepare for audits with confidence. With ComplAI, you can:\n",
      "\n",
      "- Significantly reduce manual effort and save time\n",
      "- Access real-time compliance insights\n",
      "- Enhance your team's overall efficiency\n",
      "\n",
      "I would love to schedule a brief call to discuss how ComplAI can specifically support [Recipient's Company Name] in meeting your compliance goals.\n",
      "\n",
      "Thank you for considering this opportunity. I look forward to hearing from you soon.\n",
      "\n",
      "Best regards,\n",
      "\n",
      "[Your Name]  \n",
      "[Your Job Title]  \n",
      "ComplAI  \n",
      "[Your Phone Number]  \n",
      "[Your Email Address]  \n",
      "[Website URL]  "
     ]
    }
   ],
   "source": [
    "\n",
    "result = Runner.run_streamed(sales_agent1, input=\"Write a cold sales email\") #getting back a coroutine (no await), note - using .run_streamed() not .run()\n",
    "\n",
    "# special construct to iterate through the streamed events\n",
    "async for event in result.stream_events():\n",
    "    if event.type == \"raw_response_event\" and isinstance(event.data, ResponseTextDeltaEvent):\n",
    "        print(event.data.delta, end=\"\", flush=True)"
   ]
  },
  {
   "cell_type": "code",
   "execution_count": 6,
   "metadata": {},
   "outputs": [
    {
     "name": "stdout",
     "output_type": "stream",
     "text": [
      "Subject: Simplify Your SOC 2 Compliance Process with ComplAI\n",
      "\n",
      "Dear [Recipient's Name],\n",
      "\n",
      "I hope this message finds you well.\n",
      "\n",
      "I'm [Your Name], reaching out from ComplAI, where we specialize in helping organizations like yours streamline their SOC 2 compliance and audit preparation processes through our innovative AI-powered SaaS tool.\n",
      "\n",
      "Achieving and maintaining SOC 2 compliance can be a complex and time-consuming task. Our solution is designed to simplify this process by automating documentation, tracking compliance activities, and providing real-time insights. With ComplAI, you can focus on your core business while we handle the intricacies of compliance.\n",
      "\n",
      "Here are a few key benefits of partnering with us:\n",
      "\n",
      "- **Time Efficiency**: Reduce the hours spent on manual documentation and tracking.\n",
      "- **Automated Alerts**: Stay ahead of potential compliance issues with proactive notifications.\n",
      "- **Comprehensive Reporting**: Simplified reports to ease the audit process.\n",
      "\n",
      "I would love the opportunity to discuss how ComplAI can specifically support your organization's compliance efforts. Would you be open to a brief call next week?\n",
      "\n",
      "Thank you for your time, and I look forward to hearing from you.\n",
      "\n",
      "Best regards,\n",
      "\n",
      "[Your Name]  \n",
      "[Your Position]  \n",
      "ComplAI  \n",
      "[Your Phone Number]  \n",
      "[Your Email Address]  \n",
      "[Website URL]  \n",
      "\n",
      "\n",
      "Subject: Let’s Make Your SOC2 Compliance a Walk in the Park (with Ice Cream!)\n",
      "\n",
      "Hi [Recipient's Name],\n",
      "\n",
      "I hope this email finds you somewhere enjoying coffee and avoiding compliance headaches! 🌞😄\n",
      "\n",
      "I’m [Your Name] from ComplAI, where we believe compliance shouldn’t feel like running a marathon in a hamster wheel—trust me, I've tried it! We offer a SaaS tool that ensures your SOC2 compliance is as smooth as a freshly churned scoop of ice cream.\n",
      "\n",
      "Imagine being able to prepare for audits without breaking a sweat. Our AI-powered tool does the heavy lifting for you, like a gym buddy who actually lifts! 🏋️‍♂️ Plus, we promise not to judge if you sneak in a sprinkle or two of creativity into your reports.\n",
      "\n",
      "Here’s the scoop: with ComplAI, you can:\n",
      "\n",
      "- **Streamline Compliance**: Ditch the spreadsheets and let our platform do the magic.\n",
      "- **Automate Audit Prep**: Say goodbye to those sleepless nights before audit day.\n",
      "- **Stay Ahead of the Game**: Always be ready to show you’ve got your ducks (or compliance documents) in a row!\n",
      "\n",
      "I’d love to show you how we can turn those compliance blues into breezy ease. Can we hop on a quick call next week? I’ll bring the puns; you bring the questions!\n",
      "\n",
      "Looking forward to hearing from you!\n",
      "\n",
      "Cheers,\n",
      "\n",
      "[Your Name]  \n",
      "[Your Position]  \n",
      "ComplAI  \n",
      "[Your Phone Number]  \n",
      "[Your LinkedIn Profile (optional)]  \n",
      "\n",
      "P.S. No actual walking in the park is required—but I can’t promise there won’t be ice cream involved! 🍦\n",
      "\n",
      "\n",
      "Subject: Simplify Your SOC 2 Compliance\n",
      "\n",
      "Hi [Recipient's Name],\n",
      "\n",
      "I hope this message finds you well! I'm [Your Name] with ComplAI, where we help companies like yours streamline SOC 2 compliance with our AI-powered SaaS tool.\n",
      "\n",
      "Our solution automates documentation, identifies gaps, and simplifies audit preparation, saving you time and reducing stress during compliance tasks.\n",
      "\n",
      "Would you be open to a quick call this week to discuss how we can assist you in your compliance journey?\n",
      "\n",
      "Best,  \n",
      "[Your Name]  \n",
      "[Your Position]  \n",
      "ComplAI  \n",
      "[Your Phone Number]  \n",
      "[Your LinkedIn Profile]  \n",
      "\n",
      "\n"
     ]
    }
   ],
   "source": [
    "message = \"Write a cold sales email\"\n",
    "\n",
    "with trace(\"Parallel cold emails\"):\n",
    "    results = await asyncio.gather(\n",
    "        Runner.run(sales_agent1, message),\n",
    "        Runner.run(sales_agent2, message),\n",
    "        Runner.run(sales_agent3, message),\n",
    "    )\n",
    "\n",
    "outputs = [result.final_output for result in results]\n",
    "\n",
    "for output in outputs:\n",
    "    print(output + \"\\n\\n\")\n"
   ]
  },
  {
   "cell_type": "code",
   "execution_count": 7,
   "metadata": {},
   "outputs": [],
   "source": [
    "sales_picker = Agent(\n",
    "    name=\"sales_picker\",\n",
    "    instructions=\"You pick the best cold sales email from the given options. \\\n",
    "Imagine you are a customer and pick the one you are most likely to respond to. \\\n",
    "Do not give an explanation; reply with the selected email only.\",\n",
    "    model=\"gpt-4o-mini\"\n",
    ")"
   ]
  },
  {
   "cell_type": "code",
   "execution_count": 8,
   "metadata": {},
   "outputs": [
    {
     "name": "stdout",
     "output_type": "stream",
     "text": [
      "Best sales email:\n",
      "Subject: Ready to Make SOC2 Compliance a Walk in the Park? 🌳\n",
      "\n",
      "Hey [Name],\n",
      "\n",
      "I hope this email finds you well, and not buried under a mountain of compliance paperwork! If your current approach to SOC2 compliance feels like trying to find a needle in a haystack, you’re in for a treat.\n",
      "\n",
      "At ComplAI, we’ve developed a SaaS tool that takes the guesswork out of compliance and audit preparation—think of it as your compliance fairy godmother, minus the magic wand (and sparkly dress).✨ \n",
      "\n",
      "Imagine an AI-powered buddy that automates documentation, streamlines processes, and even throws in a few dad jokes to keep things light. It’s like having a personal trainer for your compliance needs—minus the sweat and tears!\n",
      "\n",
      "Curious about how we can turn your audit nightmares into sweet compliance dreams? Let’s chat! I promise to keep our conversation more exciting than your last board meeting.\n",
      "\n",
      "Looking forward to hearing from you!\n",
      "\n",
      "Cheerio,\n",
      "\n",
      "[Your Name]  \n",
      "[Your Position]  \n",
      "ComplAI  \n",
      "[Your Phone Number]  \n",
      "[Your Website]  \n",
      "\n",
      "P.S. I can’t guarantee any magic pixie dust, but I can promise a smoother path to SOC2 compliance! 🧚‍♂️\n"
     ]
    }
   ],
   "source": [
    "message = \"Write a cold sales email\"\n",
    "\n",
    "with trace(\"Selection from sales people\"):\n",
    "    results = await asyncio.gather(\n",
    "        Runner.run(sales_agent1, message),\n",
    "        Runner.run(sales_agent2, message),\n",
    "        Runner.run(sales_agent3, message),\n",
    "    )\n",
    "    outputs = [result.final_output for result in results]\n",
    "\n",
    "    emails = \"Cold sales emails:\\n\\n\".join(outputs)\n",
    "\n",
    "    best = await Runner.run(sales_picker, emails)\n",
    "\n",
    "    print(f\"Best sales email:\\n{best.final_output}\")\n"
   ]
  },
  {
   "cell_type": "markdown",
   "metadata": {},
   "source": [
    "Now go and check out the trace:\n",
    "\n",
    "https://platform.openai.com/traces"
   ]
  },
  {
   "cell_type": "markdown",
   "metadata": {},
   "source": [
    "## Part 2: use of tools\n",
    "\n",
    "Now we will add a tool to the mix.\n",
    "\n",
    "Remember all that json boilerplate and the `handle_tool_calls()` function with the if logic.."
   ]
  },
  {
   "cell_type": "code",
   "execution_count": 9,
   "metadata": {},
   "outputs": [],
   "source": [
    "# this is just a reminder of what our agent objects look like\n",
    "\n",
    "sales_agent1 = Agent(\n",
    "        name=\"Professional Sales Agent\",\n",
    "        instructions=instructions1,\n",
    "        model=\"gpt-4o-mini\",\n",
    ")\n",
    "\n",
    "sales_agent2 = Agent(\n",
    "        name=\"Engaging Sales Agent\",\n",
    "        instructions=instructions2,\n",
    "        model=\"gpt-4o-mini\",\n",
    ")\n",
    "\n",
    "sales_agent3 = Agent(\n",
    "        name=\"Busy Sales Agent\",\n",
    "        instructions=instructions3,\n",
    "        model=\"gpt-4o-mini\",\n",
    ")"
   ]
  },
  {
   "cell_type": "code",
   "execution_count": 10,
   "metadata": {},
   "outputs": [
    {
     "data": {
      "text/plain": [
       "Agent(name='Professional Sales Agent', instructions='You are a sales agent working for ComplAI, a company that provides a SaaS tool for ensuring SOC2 compliance and preparing for audits, powered by AI. You write professional, serious cold emails.', handoff_description=None, handoffs=[], model='gpt-4o-mini', model_settings=ModelSettings(temperature=None, top_p=None, frequency_penalty=None, presence_penalty=None, tool_choice=None, parallel_tool_calls=None, truncation=None, max_tokens=None, reasoning=None, metadata=None, store=None, include_usage=None, extra_query=None, extra_body=None, extra_headers=None), tools=[], mcp_servers=[], mcp_config={}, input_guardrails=[], output_guardrails=[], output_type=None, hooks=None, tool_use_behavior='run_llm_again', reset_tool_choice=True)"
      ]
     },
     "execution_count": 10,
     "metadata": {},
     "output_type": "execute_result"
    }
   ],
   "source": [
    "sales_agent1\n",
    "\n",
    "# if we look at one of the agent objects\n",
    "# notice there is a tools param that is an empty list currently,\n",
    "# and a tool_choice param"
   ]
  },
  {
   "cell_type": "markdown",
   "metadata": {},
   "source": [
    "## Steps 2 and 3: Tools and Agent interactions\n",
    "\n",
    "Remember all that boilerplate json?\n",
    "\n",
    "Simply wrap your function with the decorator `@function_tool`"
   ]
  },
  {
   "cell_type": "code",
   "execution_count": 12,
   "metadata": {},
   "outputs": [],
   "source": [
    "@function_tool\n",
    "def send_email(body: str):\n",
    "    \"\"\" Send out an email with the given body to all sales prospects \"\"\"\n",
    "    sg = sendgrid.SendGridAPIClient(api_key=os.environ.get('SENDGRID_API_KEY'))\n",
    "    from_email = Email(\"kyra.nankivell@gmail.com\")  # Change to your verified sender\n",
    "    to_email = To(\"emmaknankivell@gmail.com\")  # Change to your recipient\n",
    "    content = Content(\"text/plain\", body)\n",
    "    mail = Mail(from_email, to_email, \"Sales email\", content).get()\n",
    "    response = sg.send(mail)\n",
    "    return {\"status\": \"success\"}"
   ]
  },
  {
   "cell_type": "markdown",
   "metadata": {},
   "source": [
    "### This has automatically been converted into a tool, with the boilerplate json created"
   ]
  },
  {
   "cell_type": "code",
   "execution_count": 13,
   "metadata": {},
   "outputs": [
    {
     "data": {
      "text/plain": [
       "FunctionTool(name='send_email', description='Send out an email with the given body to all sales prospects', params_json_schema={'properties': {'body': {'title': 'Body', 'type': 'string'}}, 'required': ['body'], 'title': 'send_email_args', 'type': 'object', 'additionalProperties': False}, on_invoke_tool=<function function_tool.<locals>._create_function_tool.<locals>._on_invoke_tool at 0x1117f32e0>, strict_json_schema=True, is_enabled=True)"
      ]
     },
     "execution_count": 13,
     "metadata": {},
     "output_type": "execute_result"
    }
   ],
   "source": [
    "# Let's look at it\n",
    "send_email"
   ]
  },
  {
   "cell_type": "markdown",
   "metadata": {},
   "source": [
    "### And you can also convert an Agent into a tool"
   ]
  },
  {
   "cell_type": "code",
   "execution_count": 14,
   "metadata": {},
   "outputs": [
    {
     "data": {
      "text/plain": [
       "FunctionTool(name='sales_agent1', description='Write a cold sales email', params_json_schema={'properties': {'input': {'title': 'Input', 'type': 'string'}}, 'required': ['input'], 'title': 'sales_agent1_args', 'type': 'object', 'additionalProperties': False}, on_invoke_tool=<function function_tool.<locals>._create_function_tool.<locals>._on_invoke_tool at 0x1117f2ca0>, strict_json_schema=True, is_enabled=True)"
      ]
     },
     "execution_count": 14,
     "metadata": {},
     "output_type": "execute_result"
    }
   ],
   "source": [
    "# creates a new tool with all the JSON, if tool called it calls agent who makes LLM call\n",
    "tool1 = sales_agent1.as_tool(tool_name=\"sales_agent1\", tool_description=\"Write a cold sales email\")\n",
    "tool1"
   ]
  },
  {
   "cell_type": "markdown",
   "metadata": {},
   "source": [
    "### So now we can gather all the tools together:\n",
    "\n",
    "A tool for each of our 3 email-writing agents\n",
    "\n",
    "And a tool for our function to send emails"
   ]
  },
  {
   "cell_type": "code",
   "execution_count": 15,
   "metadata": {},
   "outputs": [
    {
     "data": {
      "text/plain": [
       "[FunctionTool(name='sales_agent1', description='Write a cold sales email', params_json_schema={'properties': {'input': {'title': 'Input', 'type': 'string'}}, 'required': ['input'], 'title': 'sales_agent1_args', 'type': 'object', 'additionalProperties': False}, on_invoke_tool=<function function_tool.<locals>._create_function_tool.<locals>._on_invoke_tool at 0x1117f2d40>, strict_json_schema=True, is_enabled=True),\n",
       " FunctionTool(name='sales_agent2', description='Write a cold sales email', params_json_schema={'properties': {'input': {'title': 'Input', 'type': 'string'}}, 'required': ['input'], 'title': 'sales_agent2_args', 'type': 'object', 'additionalProperties': False}, on_invoke_tool=<function function_tool.<locals>._create_function_tool.<locals>._on_invoke_tool at 0x111768fe0>, strict_json_schema=True, is_enabled=True),\n",
       " FunctionTool(name='sales_agent3', description='Write a cold sales email', params_json_schema={'properties': {'input': {'title': 'Input', 'type': 'string'}}, 'required': ['input'], 'title': 'sales_agent3_args', 'type': 'object', 'additionalProperties': False}, on_invoke_tool=<function function_tool.<locals>._create_function_tool.<locals>._on_invoke_tool at 0x10698a020>, strict_json_schema=True, is_enabled=True),\n",
       " FunctionTool(name='send_email', description='Send out an email with the given body to all sales prospects', params_json_schema={'properties': {'body': {'title': 'Body', 'type': 'string'}}, 'required': ['body'], 'title': 'send_email_args', 'type': 'object', 'additionalProperties': False}, on_invoke_tool=<function function_tool.<locals>._create_function_tool.<locals>._on_invoke_tool at 0x1117f32e0>, strict_json_schema=True, is_enabled=True)]"
      ]
     },
     "execution_count": 15,
     "metadata": {},
     "output_type": "execute_result"
    }
   ],
   "source": [
    "description = \"Write a cold sales email\"\n",
    "\n",
    "tool1 = sales_agent1.as_tool(tool_name=\"sales_agent1\", tool_description=description)\n",
    "tool2 = sales_agent2.as_tool(tool_name=\"sales_agent2\", tool_description=description)\n",
    "tool3 = sales_agent3.as_tool(tool_name=\"sales_agent3\", tool_description=description)\n",
    "\n",
    "tools = [tool1, tool2, tool3, send_email]\n",
    "\n",
    "tools"
   ]
  },
  {
   "cell_type": "markdown",
   "metadata": {},
   "source": [
    "## And now it's time for our Sales Manager - our planning agent"
   ]
  },
  {
   "cell_type": "code",
   "execution_count": 22,
   "metadata": {},
   "outputs": [
    {
     "name": "stdout",
     "output_type": "stream",
     "text": [
      "RunResult:\n",
      "- Last agent: Agent(name=\"Sales Manager\", ...)\n",
      "- Final output (str):\n",
      "    The cold sales email has been successfully sent to 'Dear CEO'. If you need anything else, feel free to ask!\n",
      "- 9 new item(s)\n",
      "- 3 raw response(s)\n",
      "- 0 input guardrail result(s)\n",
      "- 0 output guardrail result(s)\n",
      "(See `RunResult` for more details)\n"
     ]
    }
   ],
   "source": [
    "instructions =\"You are a sales manager working for ComplAI. You use the tools given to you to generate cold sales emails. \\\n",
    "You never generate sales emails yourself; you always use the tools. \\\n",
    "You try all 3 sales_agent tools once before choosing the best one. \\\n",
    "You pick the single best email and use the send_email tool to send the best email (and only the best email) to the user.\"\n",
    "\n",
    "\n",
    "sales_manager = Agent(name=\"Sales Manager\", instructions=instructions, tools=tools, model=\"gpt-4o-mini\")\n",
    "\n",
    "message = \"Send a cold sales email addressed to 'Dear CEO'\"\n",
    "\n",
    "with trace(\"Sales manager\"):\n",
    "    result = await Runner.run(sales_manager, message)\n",
    "    print(result)"
   ]
  },
  {
   "cell_type": "markdown",
   "metadata": {},
   "source": [
    "<table style=\"margin: 0; text-align: left; width:100%\">\n",
    "    <tr>\n",
    "        <td style=\"width: 150px; height: 150px; vertical-align: middle;\">\n",
    "            <img src=\"../assets/stop.png\" width=\"150\" height=\"150\" style=\"display: block;\" />\n",
    "        </td>\n",
    "        <td>\n",
    "            <h2 style=\"color:#ff7800;\">Wait - you didn't get an email??</h2>\n",
    "            <span style=\"color:#ff7800;\">With much thanks to student Chris S. for describing his issue and fixes. \n",
    "            If you don't receive an email after running the prior cell, here are some things to check: <br/>\n",
    "            First, check your Spam folder! Several students have missed that the emails arrived in Spam!<br/>Second, print(result) and see if you are receiving errors about SSL. \n",
    "            If you're receiving SSL errors, then please check out theses <a href=\"https://chatgpt.com/share/680620ec-3b30-8012-8c26-ca86693d0e3d\">networking tips</a> and see the note in the next cell. Also look at the trace in OpenAI, and investigate on the SendGrid website, to hunt for clues. Let me know if I can help!\n",
    "            </span>\n",
    "        </td>\n",
    "    </tr>\n",
    "</table>"
   ]
  },
  {
   "cell_type": "markdown",
   "metadata": {},
   "source": [
    "### And one more suggestion to send emails from student Oleksandr on Windows 11:\n",
    "\n",
    "If you are getting certificate SSL errors, then:  \n",
    "Run this in a terminal: `uv pip install --upgrade certifi`\n",
    "\n",
    "Then run this code:\n",
    "```python\n",
    "import certifi\n",
    "import os\n",
    "os.environ['SSL_CERT_FILE'] = certifi.where()\n",
    "```\n",
    "\n",
    "Thank you Oleksandr!"
   ]
  },
  {
   "cell_type": "markdown",
   "metadata": {},
   "source": [
    "## Remember to check the trace\n",
    "\n",
    "https://platform.openai.com/traces\n",
    "\n",
    "And then check your email!!\n"
   ]
  },
  {
   "cell_type": "markdown",
   "metadata": {},
   "source": [
    "### **Handoffs** represent a way an agent can delegate to an agent, passing control to it\n",
    "\n",
    "Handoffs and Agents-as-tools are similar:\n",
    "\n",
    "In both cases, an Agent can collaborate with another Agent\n",
    "\n",
    "With tools, control passes back\n",
    "\n",
    "With handoffs, control passes across\n",
    "\n"
   ]
  },
  {
   "cell_type": "code",
   "execution_count": 23,
   "metadata": {},
   "outputs": [],
   "source": [
    "\n",
    "subject_instructions = \"You can write a subject for a cold sales email. \\\n",
    "You are given a message and you need to write a subject for an email that is likely to get a response.\"\n",
    "\n",
    "html_instructions = \"You can convert a text email body to an HTML email body. \\\n",
    "You are given a text email body which might have some markdown \\\n",
    "and you need to convert it to an HTML email body with simple, clear, compelling layout and design.\"\n",
    "\n",
    "# agent for subject writer - use agent as tool\n",
    "subject_writer = Agent(name=\"Email subject writer\", instructions=subject_instructions, model=\"gpt-4o-mini\")\n",
    "subject_tool = subject_writer.as_tool(tool_name=\"subject_writer\", tool_description=\"Write a subject for a cold sales email\")\n",
    "\n",
    "# agent for html converter - use agent as tool\n",
    "html_converter = Agent(name=\"HTML email body converter\", instructions=html_instructions, model=\"gpt-4o-mini\")\n",
    "html_tool = html_converter.as_tool(tool_name=\"html_converter\",tool_description=\"Convert a text email body to an HTML email body\")\n"
   ]
  },
  {
   "cell_type": "code",
   "execution_count": 26,
   "metadata": {},
   "outputs": [],
   "source": [
    "@function_tool\n",
    "def send_html_email(subject: str, html_body: str) -> Dict[str, str]:\n",
    "    \"\"\" Send out an email with the given subject and HTML body to all sales prospects \"\"\"\n",
    "    sg = sendgrid.SendGridAPIClient(api_key=os.environ.get('SENDGRID_API_KEY'))\n",
    "    from_email = Email(\"kyra.nankivell@gmail.com\")  # Change to your verified sender\n",
    "    to_email = To(\"emmaknankivell@gmail.com\")  # Change to your recipient\n",
    "    content = Content(\"text/html\", html_body) # send as HTML not text!\n",
    "    mail = Mail(from_email, to_email, subject, content).get()\n",
    "    response = sg.send(mail)\n",
    "    return {\"status\": \"success\"}"
   ]
  },
  {
   "cell_type": "code",
   "execution_count": 27,
   "metadata": {},
   "outputs": [],
   "source": [
    "tools = [subject_tool, html_tool, send_html_email]"
   ]
  },
  {
   "cell_type": "code",
   "execution_count": 28,
   "metadata": {},
   "outputs": [
    {
     "data": {
      "text/plain": [
       "[FunctionTool(name='subject_writer', description='Write a subject for a cold sales email', params_json_schema={'properties': {'input': {'title': 'Input', 'type': 'string'}}, 'required': ['input'], 'title': 'subject_writer_args', 'type': 'object', 'additionalProperties': False}, on_invoke_tool=<function function_tool.<locals>._create_function_tool.<locals>._on_invoke_tool at 0x116ae4ae0>, strict_json_schema=True, is_enabled=True),\n",
       " FunctionTool(name='html_converter', description='Convert a text email body to an HTML email body', params_json_schema={'properties': {'input': {'title': 'Input', 'type': 'string'}}, 'required': ['input'], 'title': 'html_converter_args', 'type': 'object', 'additionalProperties': False}, on_invoke_tool=<function function_tool.<locals>._create_function_tool.<locals>._on_invoke_tool at 0x116ae4fe0>, strict_json_schema=True, is_enabled=True),\n",
       " FunctionTool(name='send_html_email', description='Send out an email with the given subject and HTML body to all sales prospects', params_json_schema={'properties': {'subject': {'title': 'Subject', 'type': 'string'}, 'html_body': {'title': 'Html Body', 'type': 'string'}}, 'required': ['subject', 'html_body'], 'title': 'send_html_email_args', 'type': 'object', 'additionalProperties': False}, on_invoke_tool=<function function_tool.<locals>._create_function_tool.<locals>._on_invoke_tool at 0x116aa63e0>, strict_json_schema=True, is_enabled=True)]"
      ]
     },
     "execution_count": 28,
     "metadata": {},
     "output_type": "execute_result"
    }
   ],
   "source": [
    "tools"
   ]
  },
  {
   "cell_type": "code",
   "execution_count": 29,
   "metadata": {},
   "outputs": [],
   "source": [
    "instructions =\"You are an email formatter and sender. You receive the body of an email to be sent. \\\n",
    "You first use the subject_writer tool to write a subject for the email, then use the html_converter tool to convert the body to HTML. \\\n",
    "Finally, you use the send_html_email tool to send the email with the subject and HTML body.\"\n",
    "\n",
    "# agent to HANDOFF to\n",
    "emailer_agent = Agent(\n",
    "    name=\"Email Manager\",\n",
    "    instructions=instructions,\n",
    "    tools=tools,\n",
    "    model=\"gpt-4o-mini\",\n",
    "    handoff_description=\"Convert an email to HTML and send it\") # NEW! \n"
   ]
  },
  {
   "cell_type": "markdown",
   "metadata": {},
   "source": [
    "### Now we have 3 tools and 1 handoff"
   ]
  },
  {
   "cell_type": "code",
   "execution_count": 40,
   "metadata": {},
   "outputs": [
    {
     "name": "stdout",
     "output_type": "stream",
     "text": [
      "[FunctionTool(name='sales_agent1', description='Write a cold sales email', params_json_schema={'properties': {'input': {'title': 'Input', 'type': 'string'}}, 'required': ['input'], 'title': 'sales_agent1_args', 'type': 'object', 'additionalProperties': False}, on_invoke_tool=<function function_tool.<locals>._create_function_tool.<locals>._on_invoke_tool at 0x1117f2d40>, strict_json_schema=True, is_enabled=True), FunctionTool(name='sales_agent2', description='Write a cold sales email', params_json_schema={'properties': {'input': {'title': 'Input', 'type': 'string'}}, 'required': ['input'], 'title': 'sales_agent2_args', 'type': 'object', 'additionalProperties': False}, on_invoke_tool=<function function_tool.<locals>._create_function_tool.<locals>._on_invoke_tool at 0x111768fe0>, strict_json_schema=True, is_enabled=True), FunctionTool(name='sales_agent3', description='Write a cold sales email', params_json_schema={'properties': {'input': {'title': 'Input', 'type': 'string'}}, 'required': ['input'], 'title': 'sales_agent3_args', 'type': 'object', 'additionalProperties': False}, on_invoke_tool=<function function_tool.<locals>._create_function_tool.<locals>._on_invoke_tool at 0x10698a020>, strict_json_schema=True, is_enabled=True)]\n",
      "[Handoff(tool_name='transfer_to_email_manager', tool_description='Handoff to the Email Manager agent to handle the request. Convert an email to HTML and send it', input_json_schema={'additionalProperties': False, 'type': 'object', 'properties': {}, 'required': []}, on_invoke_handoff=<function handoff.<locals>._invoke_handoff at 0x117b55da0>, agent_name='Email Manager', input_filter=None, strict_json_schema=True)]\n"
     ]
    }
   ],
   "source": [
    "tools = [tool1, tool2, tool3]\n",
    "handoffs = [handoff(emailer_agent)]\n",
    "print(tools)\n",
    "print(handoffs)"
   ]
  },
  {
   "cell_type": "code",
   "execution_count": 41,
   "metadata": {},
   "outputs": [],
   "source": [
    "sales_manager_instructions = \"You are a sales manager working for ComplAI. You use the tools given to you to generate cold sales emails. \\\n",
    "You never generate sales emails yourself; you always use the tools. \\\n",
    "You try all 3 sales agent tools at least once before choosing the best one. \\\n",
    "You can use the tools multiple times if you're not satisfied with the results from the first try. \\\n",
    "You select the single best email using your own judgement of which email will be most effective. \\\n",
    "After picking the email, you handoff to the Email Manager agent to format and send the email.\"\n",
    "\n",
    "\n",
    "sales_manager = Agent(\n",
    "    name=\"Sales Manager\",\n",
    "    instructions=sales_manager_instructions,\n",
    "    tools=tools,\n",
    "    handoffs=handoffs,\n",
    "    model=\"gpt-4o-mini\")\n",
    "\n",
    "message = \"Send out a cold sales email addressed to Dear CEO from Alice\"\n",
    "\n",
    "with trace(\"Automated SDR\"):\n",
    "    result = await Runner.run(sales_manager, message)"
   ]
  },
  {
   "cell_type": "code",
   "execution_count": 70,
   "metadata": {},
   "outputs": [
    {
     "data": {
      "image/svg+xml": [
       "<?xml version=\"1.0\" encoding=\"UTF-8\" standalone=\"no\"?>\n",
       "<!DOCTYPE svg PUBLIC \"-//W3C//DTD SVG 1.1//EN\"\n",
       " \"http://www.w3.org/Graphics/SVG/1.1/DTD/svg11.dtd\">\n",
       "<!-- Generated by graphviz version 13.0.1 (20250615.1724)\n",
       " -->\n",
       "<!-- Title: G Pages: 1 -->\n",
       "<svg width=\"578pt\" height=\"229pt\"\n",
       " viewBox=\"0.00 0.00 578.00 229.00\" xmlns=\"http://www.w3.org/2000/svg\" xmlns:xlink=\"http://www.w3.org/1999/xlink\">\n",
       "<g id=\"graph0\" class=\"graph\" transform=\"scale(1 1) rotate(0) translate(4 224.79)\">\n",
       "<title>G</title>\n",
       "<polygon fill=\"white\" stroke=\"none\" points=\"-4,4 -4,-224.79 574.18,-224.79 574.18,4 -4,4\"/>\n",
       "<!-- __start__ -->\n",
       "<g id=\"node1\" class=\"node\">\n",
       "<title>__start__</title>\n",
       "<ellipse fill=\"lightblue\" stroke=\"black\" cx=\"222.06\" cy=\"-203.99\" rx=\"51.09\" ry=\"16.79\"/>\n",
       "<text xml:space=\"preserve\" text-anchor=\"middle\" x=\"222.06\" y=\"-198.57\" font-family=\"Arial\" font-size=\"14.00\">__start__</text>\n",
       "</g>\n",
       "<!-- Sales Manager -->\n",
       "<g id=\"node3\" class=\"node\">\n",
       "<title>Sales Manager</title>\n",
       "<polygon fill=\"lightyellow\" stroke=\"black\" points=\"276.06,-151.2 168.06,-151.2 168.06,-93.6 276.06,-93.6 276.06,-151.2\"/>\n",
       "<text xml:space=\"preserve\" text-anchor=\"middle\" x=\"222.06\" y=\"-116.97\" font-family=\"Arial\" font-size=\"14.00\">Sales Manager</text>\n",
       "</g>\n",
       "<!-- __start__&#45;&gt;Sales Manager -->\n",
       "<g id=\"edge1\" class=\"edge\">\n",
       "<title>__start__&#45;&gt;Sales Manager</title>\n",
       "<path fill=\"none\" stroke=\"black\" stroke-width=\"1.5\" d=\"M222.06,-186.89C222.06,-180.05 222.06,-171.75 222.06,-163.43\"/>\n",
       "<polygon fill=\"black\" stroke=\"black\" stroke-width=\"1.5\" points=\"225.56,-163.68 222.06,-153.68 218.56,-163.68 225.56,-163.68\"/>\n",
       "</g>\n",
       "<!-- __end__ -->\n",
       "<g id=\"node2\" class=\"node\">\n",
       "<title>__end__</title>\n",
       "<ellipse fill=\"lightblue\" stroke=\"black\" cx=\"340.06\" cy=\"-203.99\" rx=\"48.44\" ry=\"16.79\"/>\n",
       "<text xml:space=\"preserve\" text-anchor=\"middle\" x=\"340.06\" y=\"-198.57\" font-family=\"Arial\" font-size=\"14.00\">__end__</text>\n",
       "</g>\n",
       "<!-- sales_agent1 -->\n",
       "<g id=\"node4\" class=\"node\">\n",
       "<title>sales_agent1</title>\n",
       "<ellipse fill=\"lightgreen\" stroke=\"black\" cx=\"68.06\" cy=\"-28.8\" rx=\"68.06\" ry=\"16.79\"/>\n",
       "<text xml:space=\"preserve\" text-anchor=\"middle\" x=\"68.06\" y=\"-23.37\" font-family=\"Arial\" font-size=\"14.00\">sales_agent1</text>\n",
       "</g>\n",
       "<!-- Sales Manager&#45;&gt;sales_agent1 -->\n",
       "<g id=\"edge2\" class=\"edge\">\n",
       "<title>Sales Manager&#45;&gt;sales_agent1</title>\n",
       "<path fill=\"none\" stroke=\"black\" stroke-width=\"1.5\" stroke-dasharray=\"1,5\" d=\"M168.31,-93.17C145.05,-79.77 118.71,-64.02 98.81,-51.57\"/>\n",
       "<polygon fill=\"black\" stroke=\"black\" stroke-width=\"1.5\" points=\"100.72,-48.63 90.39,-46.24 96.97,-54.55 100.72,-48.63\"/>\n",
       "</g>\n",
       "<!-- sales_agent2 -->\n",
       "<g id=\"node5\" class=\"node\">\n",
       "<title>sales_agent2</title>\n",
       "<ellipse fill=\"lightgreen\" stroke=\"black\" cx=\"222.06\" cy=\"-28.8\" rx=\"68.06\" ry=\"16.79\"/>\n",
       "<text xml:space=\"preserve\" text-anchor=\"middle\" x=\"222.06\" y=\"-23.37\" font-family=\"Arial\" font-size=\"14.00\">sales_agent2</text>\n",
       "</g>\n",
       "<!-- Sales Manager&#45;&gt;sales_agent2 -->\n",
       "<g id=\"edge4\" class=\"edge\">\n",
       "<title>Sales Manager&#45;&gt;sales_agent2</title>\n",
       "<path fill=\"none\" stroke=\"black\" stroke-width=\"1.5\" stroke-dasharray=\"1,5\" d=\"M215.79,-93.42C215.16,-82.23 215.15,-69.35 215.77,-58.12\"/>\n",
       "<polygon fill=\"black\" stroke=\"black\" stroke-width=\"1.5\" points=\"219.25,-58.42 216.59,-48.16 212.28,-57.84 219.25,-58.42\"/>\n",
       "</g>\n",
       "<!-- sales_agent3 -->\n",
       "<g id=\"node6\" class=\"node\">\n",
       "<title>sales_agent3</title>\n",
       "<ellipse fill=\"lightgreen\" stroke=\"black\" cx=\"376.06\" cy=\"-28.8\" rx=\"68.06\" ry=\"16.79\"/>\n",
       "<text xml:space=\"preserve\" text-anchor=\"middle\" x=\"376.06\" y=\"-23.37\" font-family=\"Arial\" font-size=\"14.00\">sales_agent3</text>\n",
       "</g>\n",
       "<!-- Sales Manager&#45;&gt;sales_agent3 -->\n",
       "<g id=\"edge6\" class=\"edge\">\n",
       "<title>Sales Manager&#45;&gt;sales_agent3</title>\n",
       "<path fill=\"none\" stroke=\"black\" stroke-width=\"1.5\" stroke-dasharray=\"1,5\" d=\"M263.23,-93.17C285.86,-79.26 313.73,-62.79 336.15,-50.13\"/>\n",
       "<polygon fill=\"black\" stroke=\"black\" stroke-width=\"1.5\" points=\"337.68,-53.29 344.7,-45.36 334.26,-47.18 337.68,-53.29\"/>\n",
       "</g>\n",
       "<!-- Email Manager -->\n",
       "<g id=\"node7\" class=\"node\">\n",
       "<title>Email Manager</title>\n",
       "<path fill=\"none\" stroke=\"black\" d=\"M558.18,-57.6C558.18,-57.6 473.93,-57.6 473.93,-57.6 467.93,-57.6 461.93,-51.6 461.93,-45.6 461.93,-45.6 461.93,-12 461.93,-12 461.93,-6 467.93,0 473.93,0 473.93,0 558.18,0 558.18,0 564.18,0 570.18,-6 570.18,-12 570.18,-12 570.18,-45.6 570.18,-45.6 570.18,-51.6 564.18,-57.6 558.18,-57.6\"/>\n",
       "<text xml:space=\"preserve\" text-anchor=\"middle\" x=\"516.06\" y=\"-23.37\" font-family=\"Arial\" font-size=\"14.00\">Email Manager</text>\n",
       "</g>\n",
       "<!-- Sales Manager&#45;&gt;Email Manager -->\n",
       "<g id=\"edge8\" class=\"edge\">\n",
       "<title>Sales Manager&#45;&gt;Email Manager</title>\n",
       "<path fill=\"none\" stroke=\"black\" stroke-width=\"1.5\" d=\"M276.43,-108.77C321.01,-97.88 385.83,-80.84 450.06,-58.49\"/>\n",
       "<polygon fill=\"black\" stroke=\"black\" stroke-width=\"1.5\" points=\"451.22,-61.79 459.48,-55.16 448.89,-55.19 451.22,-61.79\"/>\n",
       "</g>\n",
       "<!-- sales_agent1&#45;&gt;Sales Manager -->\n",
       "<g id=\"edge3\" class=\"edge\">\n",
       "<title>sales_agent1&#45;&gt;Sales Manager</title>\n",
       "<path fill=\"none\" stroke=\"black\" stroke-width=\"1.5\" stroke-dasharray=\"1,5\" d=\"M97.44,-44.25C118.17,-55.7 146.35,-72.17 170.71,-86.96\"/>\n",
       "<polygon fill=\"black\" stroke=\"black\" stroke-width=\"1.5\" points=\"168.59,-89.76 178.95,-91.99 172.24,-83.79 168.59,-89.76\"/>\n",
       "</g>\n",
       "<!-- sales_agent2&#45;&gt;Sales Manager -->\n",
       "<g id=\"edge5\" class=\"edge\">\n",
       "<title>sales_agent2&#45;&gt;Sales Manager</title>\n",
       "<path fill=\"none\" stroke=\"black\" stroke-width=\"1.5\" stroke-dasharray=\"1,5\" d=\"M227.34,-45.9C228.49,-55.74 228.97,-68.79 228.76,-81.27\"/>\n",
       "<polygon fill=\"black\" stroke=\"black\" stroke-width=\"1.5\" points=\"225.27,-81.03 228.41,-91.15 232.26,-81.28 225.27,-81.03\"/>\n",
       "</g>\n",
       "<!-- sales_agent3&#45;&gt;Sales Manager -->\n",
       "<g id=\"edge7\" class=\"edge\">\n",
       "<title>sales_agent3&#45;&gt;Sales Manager</title>\n",
       "<path fill=\"none\" stroke=\"black\" stroke-width=\"1.5\" stroke-dasharray=\"1,5\" d=\"M355.64,-45.02C337.82,-56.47 311.17,-72.59 286.32,-87.08\"/>\n",
       "<polygon fill=\"black\" stroke=\"black\" stroke-width=\"1.5\" points=\"284.67,-83.99 277.77,-92.03 288.18,-90.05 284.67,-83.99\"/>\n",
       "</g>\n",
       "</g>\n",
       "</svg>\n"
      ],
      "text/plain": [
       "<graphviz.sources.Source at 0x12009c0b0>"
      ]
     },
     "execution_count": 70,
     "metadata": {},
     "output_type": "execute_result"
    }
   ],
   "source": [
    "# Visualize the graph (see more here: https://openai.github.io/openai-agents-python/visualization)\n",
    "\n",
    "# Prerequisites:\n",
    "# - Installing the visualization extension: uv add \"openai-agents[viz]\"\n",
    "# - Installing graphviz (if you don't have it already): \n",
    "# -- Mac: brew install graphviz\n",
    "\n",
    "from agents.extensions.visualization import draw_graph\n",
    "draw_graph(sales_manager)"
   ]
  },
  {
   "cell_type": "markdown",
   "metadata": {},
   "source": [
    "### Remember to check the trace\n",
    "\n",
    "https://platform.openai.com/traces\n",
    "\n",
    "And then check your email!!"
   ]
  },
  {
   "cell_type": "markdown",
   "metadata": {},
   "source": [
    "<table style=\"margin: 0; text-align: left; width:100%\">\n",
    "    <tr>\n",
    "        <td style=\"width: 150px; height: 150px; vertical-align: middle;\">\n",
    "            <img src=\"../assets/exercise.png\" width=\"150\" height=\"150\" style=\"display: block;\" />\n",
    "        </td>\n",
    "        <td>\n",
    "            <h2 style=\"color:#ff7800;\">Exercise</h2>\n",
    "            <span style=\"color:#ff7800;\">Can you identify the Agentic design patterns that were used here?<br/>\n",
    "            What is the 1 line that changed this from being an Agentic \"workflow\" to \"agent\" under Anthropic's definition?<br/>\n",
    "            Try adding in more tools and Agents! You could have tools that handle the mail merge to send to a list.<br/><br/>\n",
    "            HARD CHALLENGE: research how you can have SendGrid call a Callback webhook when a user replies to an email,\n",
    "            Then have the SDR respond to keep the conversation going! This may require some \"vibe coding\" 😂\n",
    "            </span>\n",
    "        </td>\n",
    "    </tr>\n",
    "</table>"
   ]
  },
  {
   "cell_type": "markdown",
   "metadata": {},
   "source": [
    "<table style=\"margin: 0; text-align: left; width:100%\">\n",
    "    <tr>\n",
    "        <td style=\"width: 150px; height: 150px; vertical-align: middle;\">\n",
    "            <img src=\"../assets/business.png\" width=\"150\" height=\"150\" style=\"display: block;\" />\n",
    "        </td>\n",
    "        <td>\n",
    "            <h2 style=\"color:#00bfff;\">Commercial implications</h2>\n",
    "            <span style=\"color:#00bfff;\">This is immediately applicable to Sales Automation; but more generally this could be applied to  end-to-end automation of any business process through conversations and tools. Think of ways you could apply an Agent solution\n",
    "            like this in your day job.\n",
    "            </span>\n",
    "        </td>\n",
    "    </tr>\n",
    "</table>"
   ]
  },
  {
   "cell_type": "markdown",
   "metadata": {},
   "source": [
    "## Extra note:\n",
    "\n",
    "Google has announced their Agent Development Kit (ADK) which is in early preview. It's still under development, so it's too early for us to cover it here. But it's interesting to note that it looks quite similar to OpenAI Agents SDK. To give you a preview, here's a peak at sample code from ADK:\n",
    "\n",
    "```\n",
    "root_agent = Agent(\n",
    "    name=\"weather_time_agent\",\n",
    "    model=\"gemini-2.0-flash\",\n",
    "    description=\"Agent to answer questions about the time and weather in a city.\",\n",
    "    instruction=\"You are a helpful agent who can answer user questions about the time and weather in a city.\",\n",
    "    tools=[get_weather, get_current_time]\n",
    ")\n",
    "```\n",
    "\n",
    "Well, that looks familiar!"
   ]
  },
  {
   "cell_type": "markdown",
   "metadata": {},
   "source": [
    "### ChatGPT Answers to Exercises (mine are in notebook)"
   ]
  },
  {
   "cell_type": "markdown",
   "metadata": {},
   "source": [
    "✅ **Agentic Design Patterns Identified:**\n",
    "- **Tool abstraction**: Specific API calls wrapped as tools the agent can use.\n",
    "- **Planner-executor loop**: The agent reasons about which tool to use.\n",
    "- **Memory of actions**: The agent keeps state of previous outputs.\n",
    "- **Autonomous operation**: Runs without user intervention once started.\n",
    "\n",
    "✅ **Line transforming workflow → handoff:**\n",
    "handoff=handoffs\n",
    "\n",
    "It was actually in the system instructions for our SM agent \"You can use the tools multiple times if you're not satisfied with the results from the first try\""
   ]
  },
  {
   "cell_type": "code",
   "execution_count": 66,
   "metadata": {},
   "outputs": [],
   "source": [
    "from typing import List\n",
    "\n",
    "@function_tool\n",
    "def send_bulk_html_email(subject: str, html_body: str, recipient_emails: List[str]) -> dict:\n",
    "    \"\"\"\n",
    "    Send an HTML email with the given subject and body to multiple recipients.\n",
    "    \"\"\"\n",
    "    sg = sendgrid.SendGridAPIClient(api_key=os.environ.get('SENDGRID_API_KEY'))\n",
    "    results = {}\n",
    "    for email in recipient_emails:\n",
    "        mail = Mail(\n",
    "            from_email=Email(\"kyra.nankivell@gmail.com\"),  # replace with your sender\n",
    "            to_emails=To(email),\n",
    "            subject=subject,\n",
    "            html_content=Content(\"text/html\", html_body)\n",
    "        )\n",
    "        try:\n",
    "            response = sg.send(mail)\n",
    "            results[email] = f\"Sent successfully: Status {response.status_code}\"\n",
    "        except Exception as e:\n",
    "            results[email] = f\"Error: {str(e)}\"\n",
    "    return results"
   ]
  },
  {
   "cell_type": "markdown",
   "metadata": {},
   "source": [
    "## HARD CHALLENGE: Inbound Webhook\n",
    "\n",
    "✅ **How to enable real inbound reply handling:**\n",
    "1. **Configure SendGrid Inbound Parse**:\n",
    "   - In SendGrid dashboard, go to *Settings > Inbound Parse*.\n",
    "   - Add a new inbound parse configuration pointing to your webhook URL (e.g., `https://yourserver.com/reply-handler`).\n",
    "2. **Create an HTTP endpoint**:\n",
    "   - Use Flask or FastAPI to expose `/reply-handler`.\n",
    "   - Parse `request.form` or JSON body.\n",
    "   - Call `handle_inbound_reply(...)` with the sender and body.\n",
    "3. **Optional Auto-Reply**:\n",
    "   - Inside the webhook, call `send_html_email()` to send your reply.\n",
    "4. **Security**:\n",
    "   - Verify SendGrid signatures to prevent spoofing.\n"
   ]
  },
  {
   "cell_type": "code",
   "execution_count": 67,
   "metadata": {},
   "outputs": [],
   "source": [
    "# Incomplete\n",
    "\n",
    "@function_tool\n",
    "def handle_inbound_reply(sender_email: str, reply_body: str) -> dict:\n",
    "    \"\"\"\n",
    "    Simulate processing an inbound reply. In production, you'd wire this\n",
    "    to SendGrid Inbound Parse. For this exercise, we just echo the reply.\n",
    "    \"\"\"\n",
    "    # Here you could parse, log, or trigger other workflows.\n",
    "    print(f\"Processing reply from {sender_email}: {reply_body}\")\n",
    "    \n",
    "    # Simulate auto-reply content\n",
    "    auto_reply_content = f\"\"\"\n",
    "    <p>Hi,<br>Thank you for your reply! You wrote:<br><br>{reply_body}</p>\n",
    "    \"\"\"\n",
    "    \n",
    "    # Optionally send a reply (commented out here)\n",
    "    # send_html_email(subject=\"Re: Your Reply\", html_body=auto_reply_content)\n",
    "    \n",
    "    return {\"status\": \"processed\", \"auto_reply_preview\": auto_reply_content}"
   ]
  },
  {
   "cell_type": "code",
   "execution_count": 68,
   "metadata": {},
   "outputs": [],
   "source": [
    "# Tools list: includes your existing tools plus the new ones\n",
    "extended_tools = [subject_tool, html_tool, send_html_email, send_bulk_html_email, handle_inbound_reply]\n",
    "\n",
    "enhanced_instructions = \"\"\"\n",
    "You are an advanced Email SDR Agent. You can:\n",
    "- Write a subject line.\n",
    "- Convert body text to HTML.\n",
    "- Send a single email.\n",
    "- Send bulk emails.\n",
    "- Handle inbound replies.\n",
    "Use the tools as needed to complete tasks autonomously.\n",
    "\"\"\"\n",
    "\n",
    "email_sdr_agent = Agent(\n",
    "    name=\"Advanced Email SDR\",\n",
    "    instructions=enhanced_instructions,\n",
    "    tools=extended_tools,\n",
    "    model=\"gpt-4o-mini\"\n",
    ")"
   ]
  },
  {
   "cell_type": "code",
   "execution_count": 69,
   "metadata": {},
   "outputs": [],
   "source": [
    "message = \"Send out cold sales email addressed to Emma (emmaknankivell@gmail.com) and Kyra (kyra.generationai@gmail.com) from AI Agent\"\n",
    "\n",
    "with trace(\"Automated SDR\"):\n",
    "    result = await Runner.run(email_sdr_agent, message)\n",
    "\n",
    "# it worked! just not getting through to gmail but sendgrid verified they sent the emails"
   ]
  },
  {
   "cell_type": "code",
   "execution_count": 71,
   "metadata": {},
   "outputs": [
    {
     "data": {
      "image/svg+xml": [
       "<?xml version=\"1.0\" encoding=\"UTF-8\" standalone=\"no\"?>\n",
       "<!DOCTYPE svg PUBLIC \"-//W3C//DTD SVG 1.1//EN\"\n",
       " \"http://www.w3.org/Graphics/SVG/1.1/DTD/svg11.dtd\">\n",
       "<!-- Generated by graphviz version 13.0.1 (20250615.1724)\n",
       " -->\n",
       "<!-- Title: G Pages: 1 -->\n",
       "<svg width=\"1079pt\" height=\"205pt\"\n",
       " viewBox=\"0.00 0.00 1079.00 205.00\" xmlns=\"http://www.w3.org/2000/svg\" xmlns:xlink=\"http://www.w3.org/1999/xlink\">\n",
       "<g id=\"graph0\" class=\"graph\" transform=\"scale(1 1) rotate(0) translate(4 200.78)\">\n",
       "<title>G</title>\n",
       "<polygon fill=\"white\" stroke=\"none\" points=\"-4,4 -4,-200.78 1074.62,-200.78 1074.62,4 -4,4\"/>\n",
       "<!-- __start__ -->\n",
       "<g id=\"node1\" class=\"node\">\n",
       "<title>__start__</title>\n",
       "<ellipse fill=\"lightblue\" stroke=\"black\" cx=\"525.44\" cy=\"-179.98\" rx=\"51.09\" ry=\"16.79\"/>\n",
       "<text xml:space=\"preserve\" text-anchor=\"middle\" x=\"525.44\" y=\"-174.56\" font-family=\"Arial\" font-size=\"14.00\">__start__</text>\n",
       "</g>\n",
       "<!-- Advanced Email SDR -->\n",
       "<g id=\"node3\" class=\"node\">\n",
       "<title>Advanced Email SDR</title>\n",
       "<polygon fill=\"lightyellow\" stroke=\"black\" points=\"598.69,-127.19 452.19,-127.19 452.19,-69.59 598.69,-69.59 598.69,-127.19\"/>\n",
       "<text xml:space=\"preserve\" text-anchor=\"middle\" x=\"525.44\" y=\"-92.96\" font-family=\"Arial\" font-size=\"14.00\">Advanced Email SDR</text>\n",
       "</g>\n",
       "<!-- __start__&#45;&gt;Advanced Email SDR -->\n",
       "<g id=\"edge1\" class=\"edge\">\n",
       "<title>__start__&#45;&gt;Advanced Email SDR</title>\n",
       "<path fill=\"none\" stroke=\"black\" stroke-width=\"1.5\" d=\"M525.44,-162.87C525.44,-156.04 525.44,-147.74 525.44,-139.42\"/>\n",
       "<polygon fill=\"black\" stroke=\"black\" stroke-width=\"1.5\" points=\"528.94,-139.66 525.44,-129.66 521.94,-139.66 528.94,-139.66\"/>\n",
       "</g>\n",
       "<!-- __end__ -->\n",
       "<g id=\"node2\" class=\"node\">\n",
       "<title>__end__</title>\n",
       "<ellipse fill=\"lightblue\" stroke=\"black\" cx=\"48.44\" cy=\"-16.79\" rx=\"48.44\" ry=\"16.79\"/>\n",
       "<text xml:space=\"preserve\" text-anchor=\"middle\" x=\"48.44\" y=\"-11.37\" font-family=\"Arial\" font-size=\"14.00\">__end__</text>\n",
       "</g>\n",
       "<!-- Advanced Email SDR&#45;&gt;__end__ -->\n",
       "<g id=\"edge12\" class=\"edge\">\n",
       "<title>Advanced Email SDR&#45;&gt;__end__</title>\n",
       "<path fill=\"none\" stroke=\"black\" stroke-width=\"1.5\" d=\"M451.94,-88.79C367.91,-78.36 226.48,-58.98 106.44,-33.59 103.09,-32.88 99.64,-32.09 96.18,-31.26\"/>\n",
       "<polygon fill=\"black\" stroke=\"black\" stroke-width=\"1.5\" points=\"97.23,-27.92 86.68,-28.85 95.52,-34.7 97.23,-27.92\"/>\n",
       "</g>\n",
       "<!-- subject_writer -->\n",
       "<g id=\"node4\" class=\"node\">\n",
       "<title>subject_writer</title>\n",
       "<ellipse fill=\"lightgreen\" stroke=\"black\" cx=\"185.44\" cy=\"-16.79\" rx=\"70.18\" ry=\"16.79\"/>\n",
       "<text xml:space=\"preserve\" text-anchor=\"middle\" x=\"185.44\" y=\"-11.37\" font-family=\"Arial\" font-size=\"14.00\">subject_writer</text>\n",
       "</g>\n",
       "<!-- Advanced Email SDR&#45;&gt;subject_writer -->\n",
       "<g id=\"edge2\" class=\"edge\">\n",
       "<title>Advanced Email SDR&#45;&gt;subject_writer</title>\n",
       "<path fill=\"none\" stroke=\"black\" stroke-width=\"1.5\" stroke-dasharray=\"1,5\" d=\"M451.92,-81.47C389.46,-67.24 301.1,-46.55 243.49,-32.65\"/>\n",
       "<polygon fill=\"black\" stroke=\"black\" stroke-width=\"1.5\" points=\"244.44,-29.28 233.89,-30.32 242.79,-36.08 244.44,-29.28\"/>\n",
       "</g>\n",
       "<!-- html_converter -->\n",
       "<g id=\"node5\" class=\"node\">\n",
       "<title>html_converter</title>\n",
       "<ellipse fill=\"lightgreen\" stroke=\"black\" cx=\"348.44\" cy=\"-16.79\" rx=\"74.95\" ry=\"16.79\"/>\n",
       "<text xml:space=\"preserve\" text-anchor=\"middle\" x=\"348.44\" y=\"-11.37\" font-family=\"Arial\" font-size=\"14.00\">html_converter</text>\n",
       "</g>\n",
       "<!-- Advanced Email SDR&#45;&gt;html_converter -->\n",
       "<g id=\"edge4\" class=\"edge\">\n",
       "<title>Advanced Email SDR&#45;&gt;html_converter</title>\n",
       "<path fill=\"none\" stroke=\"black\" stroke-width=\"1.5\" stroke-dasharray=\"1,5\" d=\"M456.04,-69.1C432.7,-58.82 407.52,-47.42 387.36,-37.98\"/>\n",
       "<polygon fill=\"black\" stroke=\"black\" stroke-width=\"1.5\" points=\"389,-34.88 378.47,-33.78 386.01,-41.21 389,-34.88\"/>\n",
       "</g>\n",
       "<!-- send_html_email -->\n",
       "<g id=\"node6\" class=\"node\">\n",
       "<title>send_html_email</title>\n",
       "<ellipse fill=\"lightgreen\" stroke=\"black\" cx=\"525.44\" cy=\"-16.79\" rx=\"84.5\" ry=\"16.79\"/>\n",
       "<text xml:space=\"preserve\" text-anchor=\"middle\" x=\"525.44\" y=\"-11.37\" font-family=\"Arial\" font-size=\"14.00\">send_html_email</text>\n",
       "</g>\n",
       "<!-- Advanced Email SDR&#45;&gt;send_html_email -->\n",
       "<g id=\"edge6\" class=\"edge\">\n",
       "<title>Advanced Email SDR&#45;&gt;send_html_email</title>\n",
       "<path fill=\"none\" stroke=\"black\" stroke-width=\"1.5\" stroke-dasharray=\"1,5\" d=\"M518.94,-69.1C518.6,-61.64 518.6,-53.58 518.94,-46.11\"/>\n",
       "<polygon fill=\"black\" stroke=\"black\" stroke-width=\"1.5\" points=\"522.43,-46.45 519.71,-36.21 515.45,-45.91 522.43,-46.45\"/>\n",
       "</g>\n",
       "<!-- send_bulk_html_email -->\n",
       "<g id=\"node7\" class=\"node\">\n",
       "<title>send_bulk_html_email</title>\n",
       "<ellipse fill=\"lightgreen\" stroke=\"black\" cx=\"735.44\" cy=\"-16.79\" rx=\"107.3\" ry=\"16.79\"/>\n",
       "<text xml:space=\"preserve\" text-anchor=\"middle\" x=\"735.44\" y=\"-11.37\" font-family=\"Arial\" font-size=\"14.00\">send_bulk_html_email</text>\n",
       "</g>\n",
       "<!-- Advanced Email SDR&#45;&gt;send_bulk_html_email -->\n",
       "<g id=\"edge8\" class=\"edge\">\n",
       "<title>Advanced Email SDR&#45;&gt;send_bulk_html_email</title>\n",
       "<path fill=\"none\" stroke=\"black\" stroke-width=\"1.5\" stroke-dasharray=\"1,5\" d=\"M593.57,-69.1C621.52,-58.32 653.44,-46.31 679.95,-36.61\"/>\n",
       "<polygon fill=\"black\" stroke=\"black\" stroke-width=\"1.5\" points=\"680.99,-39.96 689.19,-33.25 678.6,-33.38 680.99,-39.96\"/>\n",
       "</g>\n",
       "<!-- handle_inbound_reply -->\n",
       "<g id=\"node8\" class=\"node\">\n",
       "<title>handle_inbound_reply</title>\n",
       "<ellipse fill=\"lightgreen\" stroke=\"black\" cx=\"965.44\" cy=\"-16.79\" rx=\"105.18\" ry=\"16.79\"/>\n",
       "<text xml:space=\"preserve\" text-anchor=\"middle\" x=\"965.44\" y=\"-11.37\" font-family=\"Arial\" font-size=\"14.00\">handle_inbound_reply</text>\n",
       "</g>\n",
       "<!-- Advanced Email SDR&#45;&gt;handle_inbound_reply -->\n",
       "<g id=\"edge10\" class=\"edge\">\n",
       "<title>Advanced Email SDR&#45;&gt;handle_inbound_reply</title>\n",
       "<path fill=\"none\" stroke=\"black\" stroke-width=\"1.5\" stroke-dasharray=\"1,5\" d=\"M598.78,-83.16C677.23,-68.62 801.27,-46.18 883.03,-31.75\"/>\n",
       "<polygon fill=\"black\" stroke=\"black\" stroke-width=\"1.5\" points=\"883.55,-35.21 892.79,-30.03 882.34,-28.31 883.55,-35.21\"/>\n",
       "</g>\n",
       "<!-- subject_writer&#45;&gt;Advanced Email SDR -->\n",
       "<g id=\"edge3\" class=\"edge\">\n",
       "<title>subject_writer&#45;&gt;Advanced Email SDR</title>\n",
       "<path fill=\"none\" stroke=\"black\" stroke-width=\"1.5\" stroke-dasharray=\"1,5\" d=\"M236.65,-28.66C290.55,-40.79 376.18,-60.74 440.26,-76.03\"/>\n",
       "<polygon fill=\"black\" stroke=\"black\" stroke-width=\"1.5\" points=\"439.21,-79.38 449.75,-78.3 440.84,-72.57 439.21,-79.38\"/>\n",
       "</g>\n",
       "<!-- html_converter&#45;&gt;Advanced Email SDR -->\n",
       "<g id=\"edge5\" class=\"edge\">\n",
       "<title>html_converter&#45;&gt;Advanced Email SDR</title>\n",
       "<path fill=\"none\" stroke=\"black\" stroke-width=\"1.5\" stroke-dasharray=\"1,5\" d=\"M384.91,-31.82C406.06,-40.79 433.29,-52.83 458.17,-64.14\"/>\n",
       "<polygon fill=\"black\" stroke=\"black\" stroke-width=\"1.5\" points=\"456.41,-67.19 466.96,-68.16 459.32,-60.82 456.41,-67.19\"/>\n",
       "</g>\n",
       "<!-- send_html_email&#45;&gt;Advanced Email SDR -->\n",
       "<g id=\"edge7\" class=\"edge\">\n",
       "<title>send_html_email&#45;&gt;Advanced Email SDR</title>\n",
       "<path fill=\"none\" stroke=\"black\" stroke-width=\"1.5\" stroke-dasharray=\"1,5\" d=\"M530.99,-33.94C531.77,-40.64 532.16,-48.75 532.19,-56.89\"/>\n",
       "<polygon fill=\"black\" stroke=\"black\" stroke-width=\"1.5\" points=\"528.69,-56.76 531.98,-66.83 535.69,-56.91 528.69,-56.76\"/>\n",
       "</g>\n",
       "<!-- send_bulk_html_email&#45;&gt;Advanced Email SDR -->\n",
       "<g id=\"edge9\" class=\"edge\">\n",
       "<title>send_bulk_html_email&#45;&gt;Advanced Email SDR</title>\n",
       "<path fill=\"none\" stroke=\"black\" stroke-width=\"1.5\" stroke-dasharray=\"1,5\" d=\"M700.55,-33.08C675.97,-42.86 642.03,-55.86 610.56,-67.61\"/>\n",
       "<polygon fill=\"black\" stroke=\"black\" stroke-width=\"1.5\" points=\"609.38,-64.32 601.22,-71.08 611.82,-70.88 609.38,-64.32\"/>\n",
       "</g>\n",
       "<!-- handle_inbound_reply&#45;&gt;Advanced Email SDR -->\n",
       "<g id=\"edge11\" class=\"edge\">\n",
       "<title>handle_inbound_reply&#45;&gt;Advanced Email SDR</title>\n",
       "<path fill=\"none\" stroke=\"black\" stroke-width=\"1.5\" stroke-dasharray=\"1,5\" d=\"M900.65,-30.44C823.79,-44.72 695.53,-67.94 610.69,-82.93\"/>\n",
       "<polygon fill=\"black\" stroke=\"black\" stroke-width=\"1.5\" points=\"610.23,-79.46 600.99,-84.64 611.45,-86.35 610.23,-79.46\"/>\n",
       "</g>\n",
       "</g>\n",
       "</svg>\n"
      ],
      "text/plain": [
       "<graphviz.sources.Source at 0x12009ede0>"
      ]
     },
     "execution_count": 71,
     "metadata": {},
     "output_type": "execute_result"
    }
   ],
   "source": [
    "draw_graph(email_sdr_agent)"
   ]
  }
 ],
 "metadata": {
  "kernelspec": {
   "display_name": ".venv",
   "language": "python",
   "name": "python3"
  },
  "language_info": {
   "codemirror_mode": {
    "name": "ipython",
    "version": 3
   },
   "file_extension": ".py",
   "mimetype": "text/x-python",
   "name": "python",
   "nbconvert_exporter": "python",
   "pygments_lexer": "ipython3",
   "version": "3.12.11"
  }
 },
 "nbformat": 4,
 "nbformat_minor": 2
}
