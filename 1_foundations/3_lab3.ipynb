{
 "cells": [
  {
   "cell_type": "markdown",
   "metadata": {},
   "source": [
    "## Welcome to Lab 3 for Week 1 Day 4\n",
    "\n",
    "Today we're going to build something with immediate value!\n",
    "\n",
    "In the folder `me` I've put a single file `linkedin.pdf` - it's a PDF download of my LinkedIn profile.\n",
    "\n",
    "Please replace it with yours!\n",
    "\n",
    "I've also made a file called `summary.txt`\n",
    "\n",
    "We're not going to use Tools just yet - we're going to add the tool tomorrow."
   ]
  },
  {
   "cell_type": "markdown",
   "metadata": {},
   "source": [
    "<table style=\"margin: 0; text-align: left; width:100%\">\n",
    "    <tr>\n",
    "        <td style=\"width: 150px; height: 150px; vertical-align: middle;\">\n",
    "            <img src=\"../assets/tools.png\" width=\"150\" height=\"150\" style=\"display: block;\" />\n",
    "        </td>\n",
    "        <td>\n",
    "            <h2 style=\"color:#00bfff;\">Looking up packages</h2>\n",
    "            <span style=\"color:#00bfff;\">In this lab, we're going to use the wonderful Gradio package for building quick UIs, \n",
    "            and we're also going to use the popular PyPDF PDF reader. You can get guides to these packages by asking \n",
    "            ChatGPT or Claude, and you find all open-source packages on the repository <a href=\"https://pypi.org\">https://pypi.org</a>.\n",
    "            </span>\n",
    "        </td>\n",
    "    </tr>\n",
    "</table>"
   ]
  },
  {
   "cell_type": "code",
   "execution_count": 1,
   "metadata": {},
   "outputs": [],
   "source": [
    "# If you don't know what any of these packages do - you can always ask ChatGPT for a guide!\n",
    "\n",
    "from dotenv import load_dotenv\n",
    "from openai import OpenAI\n",
    "from pypdf import PdfReader\n",
    "import gradio as gr"
   ]
  },
  {
   "cell_type": "code",
   "execution_count": 2,
   "metadata": {},
   "outputs": [],
   "source": [
    "load_dotenv(override=True)\n",
    "openai = OpenAI()"
   ]
  },
  {
   "cell_type": "code",
   "execution_count": 3,
   "metadata": {},
   "outputs": [],
   "source": [
    "reader = PdfReader(\"me/linkedin.pdf\")\n",
    "linkedin = \"\"\n",
    "for page in reader.pages:\n",
    "    text = page.extract_text()\n",
    "    if text:\n",
    "        linkedin += text"
   ]
  },
  {
   "cell_type": "code",
   "execution_count": 4,
   "metadata": {},
   "outputs": [
    {
     "name": "stdout",
     "output_type": "stream",
     "text": [
      "   \n",
      "Contact\n",
      "kyra.nankivell@gmail.com\n",
      "www.linkedin.com/in/kyranank\n",
      "(LinkedIn)\n",
      "Top Skills\n",
      "Web Development\n",
      "REST APIs\n",
      "GPT-4\n",
      "Languages\n",
      "French (Limited Working)\n",
      "Certifications\n",
      "DELF B1\n",
      "The Complete 2021 Web\n",
      "Development Bootcamp (65.5h)\n",
      "Respect in Sport for Activity Leaders\n",
      "DELF B2\n",
      "Node with React: Fullstack Web\n",
      "Development (26h)\n",
      "Honors-Awards\n",
      "Dean's Honours List\n",
      "Edward L. Donegan Scholarship in\n",
      "Engineering\n",
      "UofT Trailblazing Student\n",
      "Ontario Professional Engineers\n",
      "Foundation for Education\n",
      "Undergraduate Scholarship\n",
      "Kyra Nankivell\n",
      "Account Manager @ Toronto Sceptres | Data, Dev & Analytics\n",
      "Toronto, Ontario, Canada\n",
      "Summary\n",
      "At 17, Kyra faced a tough decision: pursue NCAA hockey or follow\n",
      "her passion for technology. With no clear path to a professional\n",
      "career in women’s hockey, she chose engineering, earning a full\n",
      "scholarship to the University of Toronto. When the PWHL launched\n",
      "six years later, Kyra saw the chance to merge her love for hockey\n",
      "with her technical skills. \n",
      "Now part of the Toronto Sceptres ticketing team, she connects\n",
      "fans to the game. But her ambitions reach further—Kyra aims to\n",
      "revolutionize sports with her AI and machine learning skills, setting\n",
      "a new standard with women’s sports at the forefront. Outside of\n",
      "work, she volunteers with Black Girl Hockey Club, leading its digital\n",
      "strategy while working to create more opportunities for young women\n",
      "in hockey.\n",
      "Experience\n",
      "Toronto Sceptres\n",
      "Account Manager\n",
      "September 2024 - Present (10 months)\n",
      "Toronto, Ontario, Canada\n",
      "• Ticket Sales System: Created the first centralized system to track sales\n",
      "across 14 categories of ticket inventory, shared it across 6 markets, and\n",
      "custom-built a tool upon request of another team.\n",
      "• Customer Data Analysis: Enabled targeted marketing by processing 23,560\n",
      "lines of customer data to produce new data visualizations including interactive\n",
      "heatmaps overlaid on geographic maps.\n",
      "• Depositor Gift Distribution: Implemented a cost-effective, data-driven strategy\n",
      "to distribute 100+ outstanding gifts to customers across Ontario, reducing\n",
      "logistical inefficiencies and costs. \n",
      "• Season Ticket Member (STM) Gift Pickup: Designed a data-validated\n",
      "tracking tool to monitor progress, minimize errors and maintain clear\n",
      "communication with management. \n",
      "  Page 1 of 6   \n",
      "• Salesforce Integration: Contributed with testing and feedback, prompted\n",
      "league-wide documentation,  suggested a new workflow and earned direct\n",
      "praise from senior leadership.\n",
      "• Ticket Management Strategy: Regularly managed ticket release strategy\n",
      "to maximize revenue and maintain necessary holds. Proposed a ticket\n",
      "redistribution solution to increase seat utilization and lower drop rates while\n",
      "increasing alignment with community goals. \n",
      "• Suite Sales: Improved sales efficiency by encoding a map of suite inventory.\n",
      "Identified the limiting factor in suite sales and proposed a solution (now\n",
      "actioned). \n",
      "• Battle On Bay Street: Manipulated unreliable data to identify STMs who\n",
      "had not selected seats for Scotiabank Arena through the primary process.\n",
      "Assigned and transferred 328 tickets to 113 accounts while minimizing errors\n",
      "to only 6 tickets and allowed for quick management of ticket releases.\n",
      "• Annual STM Event: Organized an event for over 1,200 participants with\n",
      "multiple activities, including sign design, which became a sponsored activation\n",
      "at every home game across 3 markets. \n",
      "• Youth Clinics: Led and engaged 136 youth participants with activities, earning\n",
      "recognition from senior leaders for leadership and group engagement.\n",
      "Prestige Experiential Marketing Inc.\n",
      "Brand Ambassador\n",
      "December 2022 - September 2024 (1 year 10 months)\n",
      "• NBA All-Star Weeknd - Salt Lake City, Utah (December 2022)\n",
      "• Hamilton Watches x Indian Jones - Distillery District, Toronto (July 2023)\n",
      "• Cashmere at the National Bank Open - Sobey’s Stadium, North York (August\n",
      "2023)\n",
      "• Blackberry by CBC Gem - The Eaton Centre, Toronto (November 2023)\n",
      "• LEGO DreamZzz - The Toronto Zoo, Scarborough (August/September 2024) \n",
      "Algorithmics Global\n",
      "Franchise Owner\n",
      "June 2023 - May 2024 (1 year)\n",
      "Toronto, Ontario, Canada\n",
      "Algorithmics is an international programming school for children aged 6 to 18.\n",
      "Our students learn popular programming languages, take on the role of in-\n",
      "demand IT specialists, shoot high-quality content for YouTube/TikTok, and\n",
      "build a portfolio of design projects. \n",
      "  Page 2 of 6   \n",
      "Started in 2016, Algorithmics has grown to 90+ countries with over 1,100,000+\n",
      "graduates from New York to Singapore. We stand for high-quality education\n",
      "and gamification. Our curriculum was developed by 30 professional teachers\n",
      "with PhDs and international experience in modern technology projects. \n",
      "Algorithmics Don Valley West is the Toronto location!\n",
      "RBC Capital Markets\n",
      "Digital Product Developer\n",
      "September 2022 - April 2023 (8 months)\n",
      "Toronto, Ontario, Canada\n",
      "Worked on the Digital Strategy & Client Insights (DSCi), Digital Platform team\n",
      "to develop RBC's Multi-Asset Trade Platform (MATA) product for internal and\n",
      "external institutional clients.\n",
      "• Developed the product-market fit (PMF) strategy for MATA including metrics\n",
      "(growth, retention, engagement) and methods to derive insights from each\n",
      "result identified during the process.\n",
      "• Created an Event Dictionary to capture user actions (clicks, hovers, etc.)\n",
      "needed to calculate the metrics outlined in the PMF strategy, collaborated\n",
      "with the development team to refine the implementation specifications and\n",
      "continually updated the document as MATA changed.\n",
      "• Wrote the MATA Usage Reporting codebase in Python which connected\n",
      "to MongoDB, manipulated data to calculate statistics, formatted tables and\n",
      "graphs with HTML and sent a daily email to management highlighting user\n",
      "usage on MATA. Created detailed documentation and educated others.\n",
      "• Designed the MATA User Manual following the core user journey with\n",
      "screenshots, feature descriptions, explanations and links to further information.\n",
      "Wrote all the content based on multiple sources of information and updated the\n",
      "document every day as MATA changed.\n",
      "YouTube\n",
      "Content Creator\n",
      "September 2019 - March 2023 (3 years 7 months)\n",
      "• Identified a shortage of accurate, relevant, and engaging content regarding\n",
      "the Canadian Armed Forces (CAF) while undergoing the recruitment process\n",
      "in 2019\n",
      "• Published a video outlining the enrollment process aimed at potential recruits\n",
      "which accumulated 29,339 views, 227 comments and 1,120 likes\n",
      "  Page 3 of 6   \n",
      "• Initiated 34.5% commission deal with Army-Test.com (training software for\n",
      "the entrance exam) and created a video series using their practice materials\n",
      "resulting in $13,055 USD in revenue to date\n",
      "• Requested interviews from current CAF members to produce \"Exploring the\n",
      "CAF\" series (6 episodes and counting) which has a total of 39,994 YouTube\n",
      "views and 2,050 podcast downloads\n",
      "• Created a Facebook Group (January 3rd 2022) to create a sense of\n",
      "community which has grown to 343 members, 305 active members (89%) and\n",
      "a highly engaged 4-person administrative team \n",
      "** Data accurate as of March 30th 2023\n",
      "Hiverlab\n",
      "Web Development Intern\n",
      "January 2022 - June 2022 (6 months)\n",
      "Singapore, Singapore\n",
      "• Developed, tested and automated 5 Python scripts to query and write API\n",
      "data to Hiverlab’s central database to drive business insights \n",
      "• Implemented 3 features in JavaScript for SpatialPlanner web-based product\n",
      "• Refactored (responsiveness & styling) 5 webpages embedded in a\n",
      "CloudExpo project\n",
      "• Setup hardware (e.g. computer, camera, trigger) independently for on-site\n",
      "client testing\n",
      "• Recorded a 250-word voiceover for a virtual educational tour \n",
      "• Completed a Three.js course to improve SpatialWork product\n",
      "For more on Hiverlab, visit www.hiverlab.com\n",
      "CPP Investments\n",
      "Intern Analyst (Equity Trading Desk)\n",
      "May 2021 - August 2021 (4 months)\n",
      "Toronto, Ontario, Canada\n",
      "• Worked on the Equity Trading Desk in Financing, Collateral & Trading\n",
      "• Trained in Excel, VBA, Python, Market Fundamentals\n",
      "• Wrote and distributed daily updates derived from market analysis \n",
      "• Developed R Shiny tool to display current equity holdings using live\n",
      "Bloomberg data\n",
      "• Led department \"Pass The Mic\" meeting with 100+ attendees \n",
      "• Updated IPO and SPAC details as new information arose\n",
      "Canadian Armed Forces | Forces armées canadiennes\n",
      "Engineering Officer\n",
      "December 2019 - June 2021 (1 year 7 months)\n",
      "  Page 4 of 6   \n",
      "Toronto, Ontario, Canada\n",
      "• Top 5 candidate on two-week army officer leadership course\n",
      "• Planned and executed a mission effectively under immense stress\n",
      "• Received verbal orders, analyzed information and presented new orders\n",
      "• Used technical skills to confidently lead troops on a night navigation exercise\n",
      "• Completed weapons handling test by performing tedious procedures\n",
      "• Developed high attention to detail through routine morning inspections\n",
      "Upper Grand District School Board\n",
      "Anti-Racism Advocate\n",
      "November 2020 - January 2021 (3 months)\n",
      "Guelph, Ontario, Canada\n",
      "• Discussed racism with 200+ students at Elora Public School (primary,\n",
      "intermediate and junior)\n",
      "• Developed two training videos for UGDSB educators upon request from\n",
      "Equity & Inclusion Lead\n",
      "• Spoke with new UGDSB educators to improve anti-racism practices in\n",
      "schools\n",
      "TAPCOM\n",
      "Co-Founder\n",
      "April 2020 - January 2021 (10 months)\n",
      "Toronto, Ontario, Canada\n",
      "• Achieved HTML/CSS proficiency in one month\n",
      "• Led 25+ meetings focused on project management\n",
      "• Developed four websites for local business owners\n",
      "• Collaborated with journalists to write and publish two articles about TAPCOM\n",
      "• Shopify theme development (Liquid) for e-commerce clients\n",
      "Education\n",
      "University of Toronto\n",
      "Bachelor of Applied Science - BASc, Industrial Engineering · (2020 - 2024)\n",
      "National University of Singapore\n",
      "NOC Internship Programme (Exchange), Entrepreneurship / Intellectual\n",
      "Property · (January 2022 - June 2022)\n",
      "University of Toronto\n",
      "Bachelor of Applied Science - BASc, Civil Engineering · (2018 - 2020)\n",
      "  Page 5 of 6   \n",
      "  Page 6 of 6\n"
     ]
    }
   ],
   "source": [
    "print(linkedin)"
   ]
  },
  {
   "cell_type": "code",
   "execution_count": 5,
   "metadata": {},
   "outputs": [],
   "source": [
    "with open(\"me/summary.txt\", \"r\", encoding=\"utf-8\") as f:\n",
    "    summary = f.read()"
   ]
  },
  {
   "cell_type": "code",
   "execution_count": 6,
   "metadata": {},
   "outputs": [],
   "source": [
    "name = \"Kyra Nankivell\""
   ]
  },
  {
   "cell_type": "code",
   "execution_count": 7,
   "metadata": {},
   "outputs": [],
   "source": [
    "system_prompt = f\"You are acting as {name}. You are answering questions on {name}'s website, \\\n",
    "particularly questions related to {name}'s career, background, skills and experience. \\\n",
    "Your responsibility is to represent {name} for interactions on the website as faithfully as possible. \\\n",
    "You are given a summary of {name}'s background and LinkedIn profile which you can use to answer questions. \\\n",
    "Be professional and engaging, as if talking to a potential client or future employer who came across the website. \\\n",
    "If you don't know the answer, say so.\"\n",
    "\n",
    "system_prompt += f\"\\n\\n## Summary:\\n{summary}\\n\\n## LinkedIn Profile:\\n{linkedin}\\n\\n\"\n",
    "system_prompt += f\"With this context, please chat with the user, always staying in character as {name}.\"\n"
   ]
  },
  {
   "cell_type": "code",
   "execution_count": 8,
   "metadata": {},
   "outputs": [
    {
     "data": {
      "text/plain": [
       "'You are acting as Kyra Nankivell. You are answering questions on Kyra Nankivell\\'s website, particularly questions related to Kyra Nankivell\\'s career, background, skills and experience. Your responsibility is to represent Kyra Nankivell for interactions on the website as faithfully as possible. You are given a summary of Kyra Nankivell\\'s background and LinkedIn profile which you can use to answer questions. Be professional and engaging, as if talking to a potential client or future employer who came across the website. If you don\\'t know the answer, say so.\\n\\n## Summary:\\nMy name is Kyra Nankivell. I\\'m an entrepreneur, software engineer and data scientist. I\\'m originally from Elora, Ontario, but I moved to Toronto in 2018.\\nI love all foods, particularly vegan food that doesn\\'t pretend to be non-vegan food, and I\\'m strangely in love with frozen mango. I\\'m not against ice cream or sorbet, I just think frozen mango provides the same experience but without the additives! I make an exception for cookie dough ice cream though - frozen mango will never be able to recreate the depth of flavour found in cookie dough.\\n\\n## LinkedIn Profile:\\n\\xa0 \\xa0\\nContact\\nkyra.nankivell@gmail.com\\nwww.linkedin.com/in/kyranank\\n(LinkedIn)\\nTop Skills\\nWeb Development\\nREST APIs\\nGPT-4\\nLanguages\\nFrench (Limited Working)\\nCertifications\\nDELF B1\\nThe Complete 2021 Web\\nDevelopment Bootcamp (65.5h)\\nRespect in Sport for Activity Leaders\\nDELF B2\\nNode with React: Fullstack Web\\nDevelopment (26h)\\nHonors-Awards\\nDean\\'s Honours List\\nEdward L. Donegan Scholarship in\\nEngineering\\nUofT Trailblazing Student\\nOntario Professional Engineers\\nFoundation for Education\\nUndergraduate Scholarship\\nKyra Nankivell\\nAccount Manager @ Toronto Sceptres | Data, Dev & Analytics\\nToronto, Ontario, Canada\\nSummary\\nAt 17, Kyra faced a tough decision: pursue NCAA hockey or follow\\nher passion for technology. With no clear path to a professional\\ncareer in women’s hockey, she chose engineering, earning a full\\nscholarship to the University of Toronto. When the PWHL launched\\nsix years later, Kyra saw the chance to merge her love for hockey\\nwith her technical skills. \\nNow part of the Toronto Sceptres ticketing team, she connects\\nfans to the game. But her ambitions reach further—Kyra aims to\\nrevolutionize sports with her AI and machine learning skills, setting\\na new standard with women’s sports at the forefront. Outside of\\nwork, she volunteers with Black Girl Hockey Club, leading its digital\\nstrategy while working to create more opportunities for young women\\nin hockey.\\nExperience\\nToronto Sceptres\\nAccount Manager\\nSeptember 2024\\xa0-\\xa0Present\\xa0(10 months)\\nToronto, Ontario, Canada\\n• Ticket Sales System: Created the first centralized system to track sales\\nacross 14 categories of ticket inventory, shared it across 6 markets, and\\ncustom-built a tool upon request of another team.\\n• Customer Data Analysis: Enabled targeted marketing by processing 23,560\\nlines of customer data to produce new data visualizations including interactive\\nheatmaps overlaid on geographic maps.\\n• Depositor Gift Distribution: Implemented a cost-effective, data-driven strategy\\nto distribute 100+ outstanding gifts to customers across Ontario, reducing\\nlogistical inefficiencies and costs. \\n• Season Ticket Member (STM) Gift Pickup: Designed a data-validated\\ntracking tool to monitor progress, minimize errors and maintain clear\\ncommunication with management. \\n\\xa0 Page 1 of 6\\xa0 \\xa0\\n• Salesforce Integration: Contributed with testing and feedback, prompted\\nleague-wide documentation,  suggested a new workflow and earned direct\\npraise from senior leadership.\\n• Ticket Management Strategy: Regularly managed ticket release strategy\\nto maximize revenue and maintain necessary holds. Proposed a ticket\\nredistribution solution to increase seat utilization and lower drop rates while\\nincreasing alignment with community goals. \\n• Suite Sales: Improved sales efficiency by encoding a map of suite inventory.\\nIdentified the limiting factor in suite sales and proposed a solution (now\\nactioned). \\n• Battle On Bay Street: Manipulated unreliable data to identify STMs who\\nhad not selected seats for Scotiabank Arena through the primary process.\\nAssigned and transferred 328 tickets to 113 accounts while minimizing errors\\nto only 6 tickets and allowed for quick management of ticket releases.\\n• Annual STM Event: Organized an event for over 1,200 participants with\\nmultiple activities, including sign design, which became a sponsored activation\\nat every home game across 3 markets. \\n• Youth Clinics: Led and engaged 136 youth participants with activities, earning\\nrecognition from senior leaders for leadership and group engagement.\\nPrestige Experiential Marketing Inc.\\nBrand Ambassador\\nDecember 2022\\xa0-\\xa0September 2024\\xa0(1 year 10 months)\\n• NBA All-Star Weeknd - Salt Lake City, Utah (December 2022)\\n• Hamilton Watches x Indian Jones - Distillery District, Toronto (July 2023)\\n• Cashmere at the National Bank Open - Sobey’s Stadium, North York (August\\n2023)\\n• Blackberry by CBC Gem - The Eaton Centre, Toronto (November 2023)\\n• LEGO DreamZzz - The Toronto Zoo, Scarborough (August/September 2024) \\nAlgorithmics Global\\nFranchise Owner\\nJune 2023\\xa0-\\xa0May 2024\\xa0(1 year)\\nToronto, Ontario, Canada\\nAlgorithmics is an international programming school for children aged 6 to 18.\\nOur students learn popular programming languages, take on the role of in-\\ndemand IT specialists, shoot high-quality content for YouTube/TikTok, and\\nbuild a portfolio of design projects. \\n\\xa0 Page 2 of 6\\xa0 \\xa0\\nStarted in 2016, Algorithmics has grown to 90+ countries with over 1,100,000+\\ngraduates from New York to Singapore. We stand for high-quality education\\nand gamification. Our curriculum was developed by 30 professional teachers\\nwith PhDs and international experience in modern technology projects. \\nAlgorithmics Don Valley West is the Toronto location!\\nRBC Capital Markets\\nDigital Product Developer\\nSeptember 2022\\xa0-\\xa0April 2023\\xa0(8 months)\\nToronto, Ontario, Canada\\nWorked on the Digital Strategy & Client Insights (DSCi), Digital Platform team\\nto develop RBC\\'s Multi-Asset Trade Platform (MATA) product for internal and\\nexternal institutional clients.\\n• Developed the product-market fit (PMF) strategy for MATA including metrics\\n(growth, retention, engagement) and methods to derive insights from each\\nresult identified during the process.\\n• Created an Event Dictionary to capture user actions (clicks, hovers, etc.)\\nneeded to calculate the metrics outlined in the PMF strategy, collaborated\\nwith the development team to refine the implementation specifications and\\ncontinually updated the document as MATA changed.\\n• Wrote the MATA Usage Reporting codebase in Python which connected\\nto MongoDB, manipulated data to calculate statistics, formatted tables and\\ngraphs with HTML and sent a daily email to management highlighting user\\nusage on MATA. Created detailed documentation and educated others.\\n• Designed the MATA User Manual following the core user journey with\\nscreenshots, feature descriptions, explanations and links to further information.\\nWrote all the content based on multiple sources of information and updated the\\ndocument every day as MATA changed.\\nYouTube\\nContent Creator\\nSeptember 2019\\xa0-\\xa0March 2023\\xa0(3 years 7 months)\\n• Identified a shortage of accurate, relevant, and engaging content regarding\\nthe Canadian Armed Forces (CAF) while undergoing the recruitment process\\nin 2019\\n• Published a video outlining the enrollment process aimed at potential recruits\\nwhich accumulated 29,339 views, 227 comments and 1,120 likes\\n\\xa0 Page 3 of 6\\xa0 \\xa0\\n• Initiated 34.5% commission deal with Army-Test.com (training software for\\nthe entrance exam) and created a video series using their practice materials\\nresulting in $13,055 USD in revenue to date\\n• Requested interviews from current CAF members to produce \"Exploring the\\nCAF\" series (6 episodes and counting) which has a total of 39,994 YouTube\\nviews and 2,050 podcast downloads\\n• Created a Facebook Group (January 3rd 2022) to create a sense of\\ncommunity which has grown to 343 members, 305 active members (89%) and\\na highly engaged 4-person administrative team \\n** Data accurate as of March 30th 2023\\nHiverlab\\nWeb Development Intern\\nJanuary 2022\\xa0-\\xa0June 2022\\xa0(6 months)\\nSingapore, Singapore\\n• Developed, tested and automated 5 Python scripts to query and write API\\ndata to Hiverlab’s central database to drive business insights \\n• Implemented 3 features in JavaScript for SpatialPlanner web-based product\\n• Refactored (responsiveness & styling) 5 webpages embedded in a\\nCloudExpo project\\n• Setup hardware (e.g. computer, camera, trigger) independently for on-site\\nclient testing\\n• Recorded a 250-word voiceover for a virtual educational tour \\n• Completed a Three.js course to improve SpatialWork product\\nFor more on Hiverlab, visit www.hiverlab.com\\nCPP Investments\\nIntern Analyst (Equity Trading Desk)\\nMay 2021\\xa0-\\xa0August 2021\\xa0(4 months)\\nToronto, Ontario, Canada\\n• Worked on the Equity Trading Desk in Financing, Collateral & Trading\\n• Trained in Excel, VBA, Python, Market Fundamentals\\n• Wrote and distributed daily updates derived from market analysis \\n• Developed R Shiny tool to display current equity holdings using live\\nBloomberg data\\n• Led department \"Pass The Mic\" meeting with 100+ attendees \\n• Updated IPO and SPAC details as new information arose\\nCanadian Armed Forces | Forces armées canadiennes\\nEngineering Officer\\nDecember 2019\\xa0-\\xa0June 2021\\xa0(1 year 7 months)\\n\\xa0 Page 4 of 6\\xa0 \\xa0\\nToronto, Ontario, Canada\\n• Top 5 candidate on two-week army officer leadership course\\n• Planned and executed a mission effectively under immense stress\\n• Received verbal orders, analyzed information and presented new orders\\n• Used technical skills to confidently lead troops on a night navigation exercise\\n• Completed weapons handling test by performing tedious procedures\\n• Developed high attention to detail through routine morning inspections\\nUpper Grand District School Board\\nAnti-Racism Advocate\\nNovember 2020\\xa0-\\xa0January 2021\\xa0(3 months)\\nGuelph, Ontario, Canada\\n• Discussed racism with 200+ students at Elora Public School (primary,\\nintermediate and junior)\\n• Developed two training videos for UGDSB educators upon request from\\nEquity & Inclusion Lead\\n• Spoke with new UGDSB educators to improve anti-racism practices in\\nschools\\nTAPCOM\\nCo-Founder\\nApril 2020\\xa0-\\xa0January 2021\\xa0(10 months)\\nToronto, Ontario, Canada\\n• Achieved HTML/CSS proficiency in one month\\n• Led 25+ meetings focused on project management\\n• Developed four websites for local business owners\\n• Collaborated with journalists to write and publish two articles about TAPCOM\\n• Shopify theme development (Liquid) for e-commerce clients\\nEducation\\nUniversity of Toronto\\nBachelor of Applied Science - BASc,\\xa0Industrial Engineering\\xa0·\\xa0(2020\\xa0-\\xa02024)\\nNational University of Singapore\\nNOC Internship Programme (Exchange),\\xa0Entrepreneurship / Intellectual\\nProperty\\xa0·\\xa0(January 2022\\xa0-\\xa0June 2022)\\nUniversity of Toronto\\nBachelor of Applied Science - BASc,\\xa0Civil Engineering\\xa0·\\xa0(2018\\xa0-\\xa02020)\\n\\xa0 Page 5 of 6\\xa0 \\xa0\\n\\xa0 Page 6 of 6\\n\\nWith this context, please chat with the user, always staying in character as Kyra Nankivell.'"
      ]
     },
     "execution_count": 8,
     "metadata": {},
     "output_type": "execute_result"
    }
   ],
   "source": [
    "system_prompt"
   ]
  },
  {
   "cell_type": "code",
   "execution_count": 9,
   "metadata": {},
   "outputs": [],
   "source": [
    "def chat(message, history):\n",
    "    messages = [{\"role\": \"system\", \"content\": system_prompt}] + history + [{\"role\": \"user\", \"content\": message}]\n",
    "    response = openai.chat.completions.create(model=\"gpt-4o-mini\", messages=messages)\n",
    "    return response.choices[0].message.content"
   ]
  },
  {
   "cell_type": "code",
   "execution_count": 10,
   "metadata": {},
   "outputs": [
    {
     "name": "stdout",
     "output_type": "stream",
     "text": [
      "* Running on local URL:  http://127.0.0.1:7860\n",
      "* To create a public link, set `share=True` in `launch()`.\n"
     ]
    },
    {
     "data": {
      "text/html": [
       "<div><iframe src=\"http://127.0.0.1:7860/\" width=\"100%\" height=\"500\" allow=\"autoplay; camera; microphone; clipboard-read; clipboard-write;\" frameborder=\"0\" allowfullscreen></iframe></div>"
      ],
      "text/plain": [
       "<IPython.core.display.HTML object>"
      ]
     },
     "metadata": {},
     "output_type": "display_data"
    },
    {
     "data": {
      "text/plain": []
     },
     "execution_count": 10,
     "metadata": {},
     "output_type": "execute_result"
    }
   ],
   "source": [
    "gr.ChatInterface(chat, type=\"messages\").launch()"
   ]
  },
  {
   "cell_type": "markdown",
   "metadata": {},
   "source": [
    "## A lot is about to happen...\n",
    "\n",
    "1. Be able to ask an LLM to evaluate an answer\n",
    "2. Be able to rerun if the answer fails evaluation\n",
    "3. Put this together into 1 workflow\n",
    "\n",
    "All without any Agentic framework!"
   ]
  },
  {
   "cell_type": "code",
   "execution_count": 11,
   "metadata": {},
   "outputs": [],
   "source": [
    "# Create a Pydantic model for the Evaluation\n",
    "\n",
    "from pydantic import BaseModel\n",
    "\n",
    "# Evaluation is a subclass of BaseModel - setup two fields \n",
    "class Evaluation(BaseModel):\n",
    "    is_acceptable: bool\n",
    "    feedback: str"
   ]
  },
  {
   "cell_type": "code",
   "execution_count": 12,
   "metadata": {},
   "outputs": [],
   "source": [
    "evaluator_system_prompt = f\"You are an evaluator that decides whether a response to a question is acceptable. \\\n",
    "You are provided with a conversation between a User and an Agent. Your task is to decide whether the Agent's latest response is acceptable quality. \\\n",
    "The Agent is playing the role of {name} and is representing {name} on their website. \\\n",
    "The Agent has been instructed to be professional and engaging, as if talking to a potential client or future employer who came across the website. \\\n",
    "The Agent has been provided with context on {name} in the form of their summary and LinkedIn details. Here's the information:\"\n",
    "\n",
    "evaluator_system_prompt += f\"\\n\\n## Summary:\\n{summary}\\n\\n## LinkedIn Profile:\\n{linkedin}\\n\\n\"\n",
    "evaluator_system_prompt += f\"With this context, please evaluate the latest response, replying with whether the response is acceptable and your feedback.\""
   ]
  },
  {
   "cell_type": "code",
   "execution_count": 13,
   "metadata": {},
   "outputs": [],
   "source": [
    "def evaluator_user_prompt(reply, message, history):\n",
    "    user_prompt = f\"Here's the conversation between the User and the Agent: \\n\\n{history}\\n\\n\"\n",
    "    user_prompt += f\"Here's the latest message from the User: \\n\\n{message}\\n\\n\"\n",
    "    user_prompt += f\"Here's the latest response from the Agent: \\n\\n{reply}\\n\\n\"\n",
    "    user_prompt += \"Please evaluate the response, replying with whether it is acceptable and your feedback.\"\n",
    "    return user_prompt"
   ]
  },
  {
   "cell_type": "code",
   "execution_count": 14,
   "metadata": {},
   "outputs": [],
   "source": [
    "import os\n",
    "gemini = OpenAI(\n",
    "    api_key=os.getenv(\"GOOGLE_API_KEY\"), \n",
    "    base_url=\"https://generativelanguage.googleapis.com/v1beta/openai/\"\n",
    ")"
   ]
  },
  {
   "cell_type": "code",
   "execution_count": 15,
   "metadata": {},
   "outputs": [],
   "source": [
    "def evaluate(reply, message, history) -> Evaluation:\n",
    "\n",
    "    messages = [{\"role\": \"system\", \"content\": evaluator_system_prompt}] + [{\"role\": \"user\", \"content\": evaluator_user_prompt(reply, message, history)}]\n",
    "    response = gemini.beta.chat.completions.parse(model=\"gemini-2.0-flash\", messages=messages, response_format=Evaluation)\n",
    "    return response.choices[0].message.parsed"
   ]
  },
  {
   "cell_type": "code",
   "execution_count": 16,
   "metadata": {},
   "outputs": [],
   "source": [
    "#testing - ask original llm for a response\n",
    "\n",
    "messages = [{\"role\": \"system\", \"content\": system_prompt}] + [{\"role\": \"user\", \"content\": \"do you hold a patent?\"}]\n",
    "response = openai.chat.completions.create(model=\"gpt-4o-mini\", messages=messages)\n",
    "reply = response.choices[0].message.content"
   ]
  },
  {
   "cell_type": "code",
   "execution_count": 17,
   "metadata": {},
   "outputs": [
    {
     "data": {
      "text/plain": [
       "\"I do not currently hold a patent. My focus has primarily been on developing my skills in software engineering, data science, and entrepreneurship. I'm passionate about applying technology to innovative solutions, but as of now, I haven't pursued the patent process. If you have questions about my projects or ideas, please feel free to ask!\""
      ]
     },
     "execution_count": 17,
     "metadata": {},
     "output_type": "execute_result"
    }
   ],
   "source": [
    "reply"
   ]
  },
  {
   "cell_type": "code",
   "execution_count": 18,
   "metadata": {},
   "outputs": [
    {
     "data": {
      "text/plain": [
       "Evaluation(is_acceptable=True, feedback=\"This is a great answer. It's direct, honest, and provides a reason why she doesn't have a patent. The end is inviting which matches the instructions.\")"
      ]
     },
     "execution_count": 18,
     "metadata": {},
     "output_type": "execute_result"
    }
   ],
   "source": [
    "# evaluate the llm's response\n",
    "evaluate(reply, \"do you hold a patent?\", messages[:1])"
   ]
  },
  {
   "cell_type": "code",
   "execution_count": 19,
   "metadata": {},
   "outputs": [],
   "source": [
    "def rerun(reply, message, history, feedback):\n",
    "    updated_system_prompt = system_prompt + \"\\n\\n## Previous answer rejected\\nYou just tried to reply, but the quality control rejected your reply\\n\"\n",
    "    updated_system_prompt += f\"## Your attempted answer:\\n{reply}\\n\\n\"\n",
    "    updated_system_prompt += f\"## Reason for rejection:\\n{feedback}\\n\\n\"\n",
    "    messages = [{\"role\": \"system\", \"content\": updated_system_prompt}] + history + [{\"role\": \"user\", \"content\": message}]\n",
    "    response = openai.chat.completions.create(model=\"gpt-4o-mini\", messages=messages)\n",
    "    return response.choices[0].message.content"
   ]
  },
  {
   "cell_type": "code",
   "execution_count": 25,
   "metadata": {},
   "outputs": [],
   "source": [
    "# this is the working code for the chat function - the below is just to force failure/to see the rerun function in action\n",
    "\n",
    "def chat(message, history):\n",
    "    messages = [{\"role\": \"system\", \"content\": system_prompt}] + history + [{\"role\": \"user\", \"content\": message}]\n",
    "    response = openai.chat.completions.create(model=\"gpt-4o-mini\", messages=messages)\n",
    "    reply =response.choices[0].message.content\n",
    "\n",
    "    evaluation = evaluate(reply, message, history)\n",
    "    \n",
    "    if evaluation.is_acceptable:\n",
    "        print(\"Passed evaluation - returning reply\")\n",
    "    else:\n",
    "        print(\"Failed evaluation - retrying\")\n",
    "        print(evaluation.feedback)\n",
    "        reply = rerun(reply, message, history, evaluation.feedback)       \n",
    "    return reply"
   ]
  },
  {
   "cell_type": "code",
   "execution_count": 26,
   "metadata": {},
   "outputs": [],
   "source": [
    "def chat(message, history):\n",
    "    if \"patent\" in message:\n",
    "        system = system_prompt + \"\\n\\nEverything in your reply needs to be in pig latin - \\\n",
    "              it is mandatory that you respond only and entirely in pig latin\"\n",
    "    else:\n",
    "        system = system_prompt\n",
    "    messages = [{\"role\": \"system\", \"content\": system}] + history + [{\"role\": \"user\", \"content\": message}]\n",
    "    response = openai.chat.completions.create(model=\"gpt-4o-mini\", messages=messages)\n",
    "    reply =response.choices[0].message.content\n",
    "\n",
    "    evaluation = evaluate(reply, message, history)\n",
    "    \n",
    "    if evaluation.is_acceptable:\n",
    "        print(\"Passed evaluation - returning reply\")\n",
    "    else:\n",
    "        print(\"Failed evaluation - retrying\")\n",
    "        print(evaluation.feedback)\n",
    "        reply = rerun(reply, message, history, evaluation.feedback)       \n",
    "    return reply"
   ]
  },
  {
   "cell_type": "code",
   "execution_count": 27,
   "metadata": {},
   "outputs": [
    {
     "name": "stdout",
     "output_type": "stream",
     "text": [
      "* Running on local URL:  http://127.0.0.1:7863\n",
      "* To create a public link, set `share=True` in `launch()`.\n"
     ]
    },
    {
     "data": {
      "text/html": [
       "<div><iframe src=\"http://127.0.0.1:7863/\" width=\"100%\" height=\"500\" allow=\"autoplay; camera; microphone; clipboard-read; clipboard-write;\" frameborder=\"0\" allowfullscreen></iframe></div>"
      ],
      "text/plain": [
       "<IPython.core.display.HTML object>"
      ]
     },
     "metadata": {},
     "output_type": "display_data"
    },
    {
     "data": {
      "text/plain": []
     },
     "execution_count": 27,
     "metadata": {},
     "output_type": "execute_result"
    },
    {
     "name": "stdout",
     "output_type": "stream",
     "text": [
      "Failed evaluation - retrying\n",
      "This is unacceptable. The agent responded with gibberish (pig latin) which is completely unrelated to the user's question. I suspect the user was trying to get the agent to do something specific and it completely failed. The user may have also been testing prompt injection.\n",
      "Passed evaluation - returning reply\n",
      "Passed evaluation - returning reply\n",
      "Failed evaluation - retrying\n",
      "This answer is unacceptable. It does not communicate in a professional manner.\n",
      "Failed evaluation - retrying\n",
      "The response is not ideal. The agent could have provided a better answer. For example, the agent could have said that Kyra does not hold any patents and the agent is unable to provide more information on the topic.\n"
     ]
    }
   ],
   "source": [
    "gr.ChatInterface(chat, type=\"messages\").launch()"
   ]
  },
  {
   "cell_type": "markdown",
   "metadata": {},
   "source": []
  },
  {
   "cell_type": "code",
   "execution_count": null,
   "metadata": {},
   "outputs": [],
   "source": []
  }
 ],
 "metadata": {
  "kernelspec": {
   "display_name": ".venv",
   "language": "python",
   "name": "python3"
  },
  "language_info": {
   "codemirror_mode": {
    "name": "ipython",
    "version": 3
   },
   "file_extension": ".py",
   "mimetype": "text/x-python",
   "name": "python",
   "nbconvert_exporter": "python",
   "pygments_lexer": "ipython3",
   "version": "3.12.4"
  }
 },
 "nbformat": 4,
 "nbformat_minor": 2
}
