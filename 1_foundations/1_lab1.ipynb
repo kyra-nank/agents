{
 "cells": [
  {
   "cell_type": "markdown",
   "metadata": {},
   "source": [
    "# Welcome to the start of your adventure in Agentic AI"
   ]
  },
  {
   "cell_type": "markdown",
   "metadata": {},
   "source": [
    "<table style=\"margin: 0; text-align: left; width:100%\">\n",
    "    <tr>\n",
    "        <td style=\"width: 150px; height: 150px; vertical-align: middle;\">\n",
    "            <img src=\"../assets/stop.png\" width=\"150\" height=\"150\" style=\"display: block;\" />\n",
    "        </td>\n",
    "        <td>\n",
    "            <h2 style=\"color:#ff7800;\">Are you ready for action??</h2>\n",
    "            <span style=\"color:#ff7800;\">Have you completed all the setup steps in the <a href=\"../setup/\">setup</a> folder?<br/>\n",
    "            Have you checked out the guides in the <a href=\"../guides/01_intro.ipynb\">guides</a> folder?<br/>\n",
    "            Well in that case, you're ready!!\n",
    "            </span>\n",
    "        </td>\n",
    "    </tr>\n",
    "</table>"
   ]
  },
  {
   "cell_type": "markdown",
   "metadata": {},
   "source": [
    "<table style=\"margin: 0; text-align: left; width:100%\">\n",
    "    <tr>\n",
    "        <td style=\"width: 150px; height: 150px; vertical-align: middle;\">\n",
    "            <img src=\"../assets/tools.png\" width=\"150\" height=\"150\" style=\"display: block;\" />\n",
    "        </td>\n",
    "        <td>\n",
    "            <h2 style=\"color:#00bfff;\">This code is a live resource - keep an eye out for my updates</h2>\n",
    "            <span style=\"color:#00bfff;\">I push updates regularly. As people ask questions or have problems, I add more examples and improve explanations. As a result, the code below might not be identical to the videos, as I've added more steps and better comments. Consider this like an interactive book that accompanies the lectures.<br/><br/>\n",
    "            I try to send emails regularly with important updates related to the course. You can find this in the 'Announcements' section of Udemy in the left sidebar. You can also choose to receive my emails via your Notification Settings in Udemy. I'm respectful of your inbox and always try to add value with my emails!\n",
    "            </span>\n",
    "        </td>\n",
    "    </tr>\n",
    "</table>"
   ]
  },
  {
   "cell_type": "markdown",
   "metadata": {},
   "source": [
    "### And please do remember to contact me if I can help\n",
    "\n",
    "And I love to connect: https://www.linkedin.com/in/eddonner/\n",
    "\n",
    "\n",
    "### New to Notebooks like this one? Head over to the guides folder!\n",
    "\n",
    "Just to check you've already added the Python and Jupyter extensions to Cursor, if not already installed:\n",
    "- Open extensions (View >> extensions)\n",
    "- Search for python, and when the results show, click on the ms-python one, and Install it if not already installed\n",
    "- Search for jupyter, and when the results show, click on the Microsoft one, and Install it if not already installed  \n",
    "Then View >> Explorer to bring back the File Explorer.\n",
    "\n",
    "And then:\n",
    "1. Click where it says \"Select Kernel\" near the top right, and select the option called `.venv (Python 3.12.9)` or similar, which should be the first choice or the most prominent choice. You may need to choose \"Python Environments\" first.\n",
    "2. Click in each \"cell\" below, starting with the cell immediately below this text, and press Shift+Enter to run\n",
    "3. Enjoy!\n",
    "\n",
    "After you click \"Select Kernel\", if there is no option like `.venv (Python 3.12.9)` then please do the following:  \n",
    "1. On Mac: From the Cursor menu, choose Settings >> VS Code Settings (NOTE: be sure to select `VSCode Settings` not `Cursor Settings`);  \n",
    "On Windows PC: From the File menu, choose Preferences >> VS Code Settings(NOTE: be sure to select `VSCode Settings` not `Cursor Settings`)  \n",
    "2. In the Settings search bar, type \"venv\"  \n",
    "3. In the field \"Path to folder with a list of Virtual Environments\" put the path to the project root, like C:\\Users\\username\\projects\\agents (on a Windows PC) or /Users/username/projects/agents (on Mac or Linux).  \n",
    "And then try again.\n",
    "\n",
    "Having problems with missing Python versions in that list? Have you ever used Anaconda before? It might be interferring. Quit Cursor, bring up a new command line, and make sure that your Anaconda environment is deactivated:    \n",
    "`conda deactivate`  \n",
    "And if you still have any problems with conda and python versions, it's possible that you will need to run this too:  \n",
    "`conda config --set auto_activate_base false`  \n",
    "and then from within the Agents directory, you should be able to run `uv python list` and see the Python 3.12 version."
   ]
  },
  {
   "cell_type": "code",
   "execution_count": 1,
   "metadata": {},
   "outputs": [],
   "source": [
    "# First let's do an import\n",
    "from dotenv import load_dotenv\n"
   ]
  },
  {
   "cell_type": "code",
   "execution_count": 2,
   "metadata": {},
   "outputs": [
    {
     "data": {
      "text/plain": [
       "True"
      ]
     },
     "execution_count": 2,
     "metadata": {},
     "output_type": "execute_result"
    }
   ],
   "source": [
    "# Next it's time to load the API keys into environment variables\n",
    "# override to prioritize the keys in the .env file\n",
    "\n",
    "load_dotenv(override=True)"
   ]
  },
  {
   "cell_type": "code",
   "execution_count": 3,
   "metadata": {},
   "outputs": [
    {
     "name": "stdout",
     "output_type": "stream",
     "text": [
      "OpenAI API Key exists and begins sk-proj-\n"
     ]
    }
   ],
   "source": [
    "# Check the keys\n",
    "\n",
    "import os\n",
    "openai_api_key = os.getenv('OPENAI_API_KEY')\n",
    "\n",
    "if openai_api_key:\n",
    "    print(f\"OpenAI API Key exists and begins {openai_api_key[:8]}\")\n",
    "else:\n",
    "    print(\"OpenAI API Key not set - please head to the troubleshooting guide in the setup folder\")\n",
    "    \n"
   ]
  },
  {
   "cell_type": "code",
   "execution_count": 4,
   "metadata": {},
   "outputs": [],
   "source": [
    "# And now - the all important import statement\n",
    "# If you get an import error - head over to troubleshooting guide\n",
    "\n",
    "from openai import OpenAI"
   ]
  },
  {
   "cell_type": "code",
   "execution_count": 5,
   "metadata": {},
   "outputs": [],
   "source": [
    "# And now we'll create an instance of the OpenAI class\n",
    "# If you're not sure what it means to create an instance of a class - head over to the guides folder!\n",
    "# If you get a NameError - head over to the guides folder to learn about NameErrors\n",
    "\n",
    "openai = OpenAI()\n",
    "\n",
    "# create instance of the OpenAI class"
   ]
  },
  {
   "cell_type": "code",
   "execution_count": 6,
   "metadata": {},
   "outputs": [],
   "source": [
    "# Create a list of messages in the familiar OpenAI format\n",
    "\n",
    "messages = [{\"role\": \"user\", \"content\": \"What is 2+2?\"}]"
   ]
  },
  {
   "cell_type": "code",
   "execution_count": 7,
   "metadata": {},
   "outputs": [
    {
     "name": "stdout",
     "output_type": "stream",
     "text": [
      "2 + 2 equals 4.\n"
     ]
    }
   ],
   "source": [
    "# And now call it! Any problems, head to the troubleshooting guide\n",
    "# This uses GPT 4.1 nano, the incredibly cheap model\n",
    "\n",
    "response = openai.chat.completions.create(\n",
    "    model=\"gpt-4.1-nano\",\n",
    "    messages=messages\n",
    ")\n",
    "\n",
    "print(response.choices[0].message.content)\n"
   ]
  },
  {
   "cell_type": "code",
   "execution_count": 9,
   "metadata": {},
   "outputs": [],
   "source": [
    "# And now - let's ask for a question:\n",
    "\n",
    "question = \"Please propose a hard, challenging question to assess someone's IQ. Respond only with the question.\"\n",
    "messages = [{\"role\": \"user\", \"content\": question}]\n"
   ]
  },
  {
   "cell_type": "code",
   "execution_count": 10,
   "metadata": {},
   "outputs": [
    {
     "name": "stdout",
     "output_type": "stream",
     "text": [
      "If 7 people can complete a task in 5 days working at the same rate, how many days will it take for 3 people to complete the same task working at the same rate?\n"
     ]
    }
   ],
   "source": [
    "# ask it - this uses GPT 4.1 mini, still cheap but more powerful than nano\n",
    "\n",
    "response = openai.chat.completions.create(\n",
    "    model=\"gpt-4.1-mini\",\n",
    "    messages=messages\n",
    ")\n",
    "\n",
    "question = response.choices[0].message.content\n",
    "\n",
    "print(question)\n"
   ]
  },
  {
   "cell_type": "code",
   "execution_count": 11,
   "metadata": {},
   "outputs": [],
   "source": [
    "# form a new messages list\n",
    "messages = [{\"role\": \"user\", \"content\": question}]\n"
   ]
  },
  {
   "cell_type": "code",
   "execution_count": 12,
   "metadata": {},
   "outputs": [
    {
     "name": "stdout",
     "output_type": "stream",
     "text": [
      "First, let's determine the total amount of work in \"person-days.\"\n",
      "\n",
      "- 7 people × 5 days = 35 person-days of work.\n",
      "\n",
      "Since the total work is 35 person-days, and now there are only 3 people working:\n",
      "\n",
      "- Number of days = Total work / Number of people = 35 / 3 ≈ 11.67 days.\n",
      "\n",
      "**Answer:** It will take approximately **11.67 days** (or 11 days and 2/3 of a day) for 3 people to complete the task.\n"
     ]
    }
   ],
   "source": [
    "# Ask it again\n",
    "\n",
    "response = openai.chat.completions.create(\n",
    "    model=\"gpt-4.1-mini\",\n",
    "    messages=messages\n",
    ")\n",
    "\n",
    "answer = response.choices[0].message.content\n",
    "print(answer)\n"
   ]
  },
  {
   "cell_type": "code",
   "execution_count": 13,
   "metadata": {},
   "outputs": [
    {
     "data": {
      "text/markdown": [
       "First, let's determine the total amount of work in \"person-days.\"\n",
       "\n",
       "- 7 people × 5 days = 35 person-days of work.\n",
       "\n",
       "Since the total work is 35 person-days, and now there are only 3 people working:\n",
       "\n",
       "- Number of days = Total work / Number of people = 35 / 3 ≈ 11.67 days.\n",
       "\n",
       "**Answer:** It will take approximately **11.67 days** (or 11 days and 2/3 of a day) for 3 people to complete the task."
      ],
      "text/plain": [
       "<IPython.core.display.Markdown object>"
      ]
     },
     "metadata": {},
     "output_type": "display_data"
    }
   ],
   "source": [
    "from IPython.display import Markdown, display\n",
    "\n",
    "display(Markdown(answer))\n",
    "\n"
   ]
  },
  {
   "cell_type": "markdown",
   "metadata": {},
   "source": [
    "# Congratulations!\n",
    "\n",
    "That was a small, simple step in the direction of Agentic AI, with your new environment!\n",
    "\n",
    "Next time things get more interesting..."
   ]
  },
  {
   "cell_type": "markdown",
   "metadata": {},
   "source": [
    "<table style=\"margin: 0; text-align: left; width:100%\">\n",
    "    <tr>\n",
    "        <td style=\"width: 150px; height: 150px; vertical-align: middle;\">\n",
    "            <img src=\"../assets/exercise.png\" width=\"150\" height=\"150\" style=\"display: block;\" />\n",
    "        </td>\n",
    "        <td>\n",
    "            <h2 style=\"color:#ff7800;\">Exercise</h2>\n",
    "            <span style=\"color:#ff7800;\">Now try this commercial application:<br/>\n",
    "            First ask the LLM to pick a business area that might be worth exploring for an Agentic AI opportunity.<br/>\n",
    "            Then ask the LLM to present a pain-point in that industry - something challenging that might be ripe for an Agentic solution.<br/>\n",
    "            Finally have 3 third LLM call propose the Agentic AI solution.\n",
    "            </span>\n",
    "        </td>\n",
    "    </tr>\n",
    "</table>"
   ]
  },
  {
   "cell_type": "code",
   "execution_count": 14,
   "metadata": {},
   "outputs": [
    {
     "name": "stdout",
     "output_type": "stream",
     "text": [
      "The business idea is: One promising business area for exploring an Agentic AI opportunity is **Supply Chain and Logistics Optimization**.\n",
      "\n",
      "### Why Supply Chain and Logistics?\n",
      "\n",
      "1. **Complex Decision-Making**: Supply chains involve numerous dynamic variables—demand forecasting, inventory management, route planning, supplier coordination, and real-time disruption handling—that require adaptive, autonomous decision-making.\n",
      "\n",
      "2. **Data-Rich Environment**: There is a wealth of real-time and historical data, from IoT sensors, GPS tracking, market demand signals, and supplier performance metrics, which an Agentic AI can leverage to make informed decisions.\n",
      "\n",
      "3. **High Impact on Costs and Efficiency**: Improving supply chain responsiveness and efficiency directly translates into significant cost reductions and increased customer satisfaction, offering clear ROI.\n",
      "\n",
      "4. **Need for Proactive Adaptation**: Unexpected events like delays, weather conditions, or geopolitical disruptions necessitate proactive, autonomous adjustments to plans—perfect for an agentic AI that can operate with a level of independence to manage changing conditions.\n",
      "\n",
      "### Example Use Cases\n",
      "\n",
      "- **Dynamic Routing and Fleet Management**: An Agentic AI system could autonomously reroute deliveries in real time, optimize fleet use, and balance loads to avoid delays and reduce fuel costs.\n",
      "\n",
      "- **Inventory Autonomy**: Automating reorder decisions, warehouse layouts, and stock allocation without human intervention based on predictive analytics.\n",
      "\n",
      "- **Supplier Risk Management**: Continuously monitoring supplier performance and market conditions, and autonomously initiating contingencies like alternative sourcing or contract renegotiations.\n",
      "\n",
      "### Strategic Advantage\n",
      "\n",
      "Deploying agentic AI here could make a business uniquely agile and resilient, turning supply chain management from a reactive function into a strategic competitive advantage.\n",
      "\n",
      "---\n",
      "\n",
      "If you want, I can help you dig deeper into potential product features or technical approaches for this area!\n",
      "The pain point is: Certainly! One significant pain point within Supply Chain and Logistics Optimization that highlights the opportunity for Agentic AI is:\n",
      "\n",
      "### Pain Point: **Real-Time Disruption Management and Autonomous Recovery**\n",
      "\n",
      "**Description:**  \n",
      "Supply chains are increasingly vulnerable to sudden disruptions—such as port closures, transportation strikes, extreme weather, political instability, or supplier bankruptcies—that can cascade through the entire network. Currently, many companies rely on reactive measures, manual intervention, or semi-automated alerts to handle these situations. This often results in delayed responses, suboptimal re-routing, inventory shortages or surpluses, and increased costs.\n",
      "\n",
      "**Why It's Challenging:**\n",
      "\n",
      "- The complexity and interdependence of supply chain nodes make manual decision-making slow and error-prone under pressure.\n",
      "- The volume and velocity of incoming data from diverse sources make it difficult for human teams to maintain situational awareness and execute coordinated responses.\n",
      "- Traditional rule-based or prescriptive analytics systems struggle to generalize to unforeseen events that don’t fit historical patterns.\n",
      "- There’s a need for continuous, autonomous re-planning and negotiation across multiple stakeholders (e.g., carriers, warehouses, suppliers) in real-time.\n",
      "\n",
      "**How Agentic AI Can Address This:**\n",
      "\n",
      "- Operate with high autonomy to monitor multiple data streams, detect disruptions early, and evaluate their cascading impacts across the network without human input.\n",
      "- Proactively generate and validate contingency plans (e.g., rerouting shipments, reallocating inventory, switching suppliers) and autonomously execute the most effective option.\n",
      "- Continuously learn from evolving conditions, improving its decision-making and anticipation of novel disruption scenarios.\n",
      "- Automatically communicate and coordinate with other agents or digital systems to ensure synchronized responses across the supply chain ecosystem.\n",
      "\n",
      "---\n",
      "\n",
      "If you’d like, I can suggest specific product features or architectural approaches to build such a disruption management Agentic AI!\n"
     ]
    },
    {
     "data": {
      "text/markdown": [
       "Certainly! Here's an elevator pitch framing Agentic AI as a transformative solution for real-time disruption management in supply chain and logistics:\n",
       "\n",
       "---\n",
       "\n",
       "**Elevator Pitch:**\n",
       "\n",
       "In today’s hyper-complex supply chains, unexpected disruptions—from weather disasters to geopolitical upheavals—can grind operations to a halt, inflating costs and frustrating customers. Our Agentic AI solution revolutionizes supply chain resilience by autonomously detecting disruptions in real-time, continuously assessing their ripple effects, and executing optimal recovery plans without waiting for human intervention.\n",
       "\n",
       "Powered by advanced multi-source data integration and adaptive learning, this AI acts as an intelligent operations manager that never sleeps—rerouting shipments, reallocating inventory, renegotiating supplier contracts, and synchronizing stakeholders dynamically. The result? Dramatic reductions in downtime, leaner inventories, and faster delivery times, giving businesses an unbeatable competitive edge in agility and cost-efficiency.\n",
       "\n",
       "By shifting supply chain management from reactive firefighting to proactive, autonomous orchestration, our Agentic AI not only protects your operations but transforms the supply chain into a strategic asset primed for growth and disruption.\n",
       "\n",
       "---\n",
       "\n",
       "If you want, I can help outline the key product features or technical roadmap to bring this vision to life!"
      ],
      "text/plain": [
       "<IPython.core.display.Markdown object>"
      ]
     },
     "metadata": {},
     "output_type": "display_data"
    }
   ],
   "source": [
    "# First create the messages:\n",
    "find_business_idea = \"Pick a business area that might be worth exploring for an Agentic AI opportunity\"\n",
    "messages = [{\"role\": \"user\", \"content\": find_business_idea}]\n",
    "\n",
    "# Then make the first call:\n",
    "response = openai.chat.completions.create(\n",
    "    model=\"gpt-4.1-mini\",\n",
    "    messages=messages\n",
    ")\n",
    "\n",
    "# Then read the business idea:\n",
    "business_idea = response.choices[0].message.content\n",
    "print(f'The business idea is: {business_idea}')\n",
    "\n",
    "# Create another message for pain point:\n",
    "find_pain_point = f\"Present a pain point in the industry related to {business_idea} - something challenging that might be ripe for an Agentic solution\"\n",
    "messages = [{\"role\":\"user\", \"content\": find_pain_point}]\n",
    "\n",
    "# Call the model:\n",
    "response = openai.chat.completions.create(\n",
    "    model=\"gpt-4.1-mini\",\n",
    "    messages=messages\n",
    ")\n",
    "\n",
    "# Read the pain point:\n",
    "pain_point = response.choices[0].message.content\n",
    "print(f'The pain point is: {pain_point}')\n",
    "\n",
    "# Create another message for the solution:\n",
    "find_solution = f\"Present an elevator pitch for a solution in the industry related to {business_idea} that solves the {pain_point}\"\n",
    "messages = [{\"role\":\"user\", \"content\": find_solution}]\n",
    "\n",
    "# Call the model:\n",
    "response = openai.chat.completions.create(\n",
    "    model=\"gpt-4.1-mini\",\n",
    "    messages=messages\n",
    ")\n",
    "\n",
    "# Read the solution:\n",
    "solution = response.choices[0].message.content\n",
    "display(Markdown(solution))"
   ]
  },
  {
   "cell_type": "markdown",
   "metadata": {},
   "source": []
  }
 ],
 "metadata": {
  "kernelspec": {
   "display_name": ".venv",
   "language": "python",
   "name": "python3"
  },
  "language_info": {
   "codemirror_mode": {
    "name": "ipython",
    "version": 3
   },
   "file_extension": ".py",
   "mimetype": "text/x-python",
   "name": "python",
   "nbconvert_exporter": "python",
   "pygments_lexer": "ipython3",
   "version": "3.12.4"
  }
 },
 "nbformat": 4,
 "nbformat_minor": 2
}
